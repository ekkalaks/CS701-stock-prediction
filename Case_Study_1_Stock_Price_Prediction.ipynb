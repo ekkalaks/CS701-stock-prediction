{
  "nbformat": 4,
  "nbformat_minor": 0,
  "metadata": {
    "colab": {
      "name": "Case Study 1 : Stock Price Prediction",
      "provenance": [],
      "authorship_tag": "ABX9TyN0DorvhFKCRiGUOqG9RrE9",
      "include_colab_link": true
    },
    "kernelspec": {
      "name": "python3",
      "display_name": "Python 3"
    },
    "language_info": {
      "name": "python"
    }
  },
  "cells": [
    {
      "cell_type": "markdown",
      "metadata": {
        "id": "view-in-github",
        "colab_type": "text"
      },
      "source": [
        "<a href=\"https://colab.research.google.com/github/ekkalaks/CS701_stock_prediction/blob/main/Case_Study_1_Stock_Price_Prediction.ipynb\" target=\"_parent\"><img src=\"https://colab.research.google.com/assets/colab-badge.svg\" alt=\"Open In Colab\"/></a>"
      ]
    },
    {
      "cell_type": "markdown",
      "metadata": {
        "id": "E9JD88VM4_gg"
      },
      "source": [
        "Function and modules for supervised regression models"
      ]
    },
    {
      "cell_type": "code",
      "metadata": {
        "id": "CniyqPvy1Msi"
      },
      "source": [
        "from sklearn.linear_model import LinearRegression\n",
        "from sklearn.linear_model import Lasso\n",
        "from sklearn.linear_model import ElasticNet\n",
        "from sklearn.tree import DecisionTreeRegressor\n",
        "from sklearn.neighbors import KNeighborsRegressor\n",
        "from sklearn.svm import SVR\n",
        "from sklearn.ensemble import RandomForestRegressor\n",
        "from sklearn.ensemble import GradientBoostingRegressor\n",
        "from sklearn.ensemble import ExtraTreesRegressor\n",
        "from sklearn.ensemble import AdaBoostRegressor\n",
        "from sklearn.neural_network import MLPRegressor"
      ],
      "execution_count": 1,
      "outputs": []
    },
    {
      "cell_type": "markdown",
      "metadata": {
        "id": "eKxDcTmz5QF1"
      },
      "source": [
        "Function and modules for data analysis and model evaluation"
      ]
    },
    {
      "cell_type": "code",
      "metadata": {
        "id": "ZPRqgkz65WDj"
      },
      "source": [
        "from sklearn.model_selection import train_test_split\n",
        "from sklearn.model_selection import KFold\n",
        "from sklearn.model_selection import cross_val_score\n",
        "from sklearn.model_selection import GridSearchCV\n",
        "from sklearn.metrics import mean_squared_error\n",
        "from sklearn.feature_selection import SelectKBest\n",
        "from sklearn.feature_selection import chi2, f_regression"
      ],
      "execution_count": 2,
      "outputs": []
    },
    {
      "cell_type": "markdown",
      "metadata": {
        "id": "JtwIVV-H6DNT"
      },
      "source": [
        "Funtion and modules for deep learning models"
      ]
    },
    {
      "cell_type": "code",
      "metadata": {
        "id": "vdl5jwcz6KJf"
      },
      "source": [
        "from keras.models import Sequential\n",
        "from keras.layers import Dense\n",
        "#from keras.optimizers import gradient_descent_v2 #instead of : SDG\n",
        "#instead of: from keras.optimizers we uses tensorflow.keras.optimizers\n",
        "from tensorflow.keras.optimizers import SGD \n",
        "from keras.layers import LSTM\n",
        "from keras.wrappers.scikit_learn import KerasRegressor"
      ],
      "execution_count": 3,
      "outputs": []
    },
    {
      "cell_type": "markdown",
      "metadata": {
        "id": "o9CNUIdG8jUc"
      },
      "source": [
        "Function and modules for time series models"
      ]
    },
    {
      "cell_type": "code",
      "metadata": {
        "colab": {
          "base_uri": "https://localhost:8080/"
        },
        "id": "FV0mNO6E8ogE",
        "outputId": "82aab0db-6532-4f7b-e401-c0e3021c345b"
      },
      "source": [
        "from statsmodels.tsa.arima_model import ARIMA\n",
        "import statsmodels.api as sm"
      ],
      "execution_count": 4,
      "outputs": [
        {
          "output_type": "stream",
          "name": "stderr",
          "text": [
            "/usr/local/lib/python3.7/dist-packages/statsmodels/tools/_testing.py:19: FutureWarning: pandas.util.testing is deprecated. Use the functions in the public API at pandas.testing instead.\n",
            "  import pandas.util.testing as tm\n"
          ]
        }
      ]
    },
    {
      "cell_type": "markdown",
      "metadata": {
        "id": "P9H9TLUP85ZK"
      },
      "source": [
        "Function and modules for data preparation and visulization"
      ]
    },
    {
      "cell_type": "code",
      "metadata": {
        "id": "V5-KISXU8_g3"
      },
      "source": [
        "# pandasm pandas_datareader, numpy and matplotlib\n",
        "import numpy as np\n",
        "import pandas as pd\n",
        "import pandas_datareader.data as web\n",
        "from matplotlib import pyplot\n",
        "from pandas.plotting import scatter_matrix\n",
        "import seaborn as sns\n",
        "from sklearn.preprocessing import StandardScaler\n",
        "from pandas.plotting import scatter_matrix\n",
        "from statsmodels.graphics.tsaplots import plot_acf\n",
        "import yfinance as yf\n",
        "#yf.pdr_override()"
      ],
      "execution_count": 5,
      "outputs": []
    },
    {
      "cell_type": "markdown",
      "metadata": {
        "id": "uUJB2wFd95RH"
      },
      "source": [
        "Loading the Data"
      ]
    },
    {
      "cell_type": "code",
      "metadata": {
        "colab": {
          "base_uri": "https://localhost:8080/"
        },
        "id": "eMa3xeM898ii",
        "outputId": "35c42691-277d-4c2d-cd15-aa92035ee6f9"
      },
      "source": [
        "stk_tickers = ['MSFT', 'IBM', 'GOOGL']\n",
        "ccy_tickers = ['DEXJPUS', 'DEXUSUK']\n",
        "idx_tickers = ['SP500', 'DJIA', 'VIXCLS']\n",
        "\n",
        "stk_data = yf.download(stk_tickers, start='2017-01-01')\n",
        "#stk_data = web.get_data_yahoo(stk_tickers)\n",
        "ccy_data = web.DataReader(ccy_tickers, 'fred', start='2017-01-01')\n",
        "idx_data = web.DataReader(idx_tickers, 'fred', start='2017-01-01')"
      ],
      "execution_count": 14,
      "outputs": [
        {
          "output_type": "stream",
          "name": "stdout",
          "text": [
            "[*********************100%***********************]  3 of 3 completed\n"
          ]
        }
      ]
    },
    {
      "cell_type": "code",
      "metadata": {
        "colab": {
          "base_uri": "https://localhost:8080/"
        },
        "id": "hCD5QvTWBK3b",
        "outputId": "dfea716f-bd7d-44bd-fe6e-a7d0188c4ae2"
      },
      "source": [
        "stk_data.shape"
      ],
      "execution_count": 20,
      "outputs": [
        {
          "output_type": "execute_result",
          "data": {
            "text/plain": [
              "(1203, 18)"
            ]
          },
          "metadata": {},
          "execution_count": 20
        }
      ]
    },
    {
      "cell_type": "code",
      "metadata": {
        "colab": {
          "base_uri": "https://localhost:8080/",
          "height": 164
        },
        "id": "QvpW92SbBO_o",
        "outputId": "3910c168-479f-4ed3-bfde-8e22cbf32bd6"
      },
      "source": [
        "ccy_data.co"
      ],
      "execution_count": 21,
      "outputs": [
        {
          "output_type": "error",
          "ename": "AttributeError",
          "evalue": "ignored",
          "traceback": [
            "\u001b[0;31m---------------------------------------------------------------------------\u001b[0m",
            "\u001b[0;31mAttributeError\u001b[0m                            Traceback (most recent call last)",
            "\u001b[0;32m<ipython-input-21-61ced58ee320>\u001b[0m in \u001b[0;36m<module>\u001b[0;34m()\u001b[0m\n\u001b[0;32m----> 1\u001b[0;31m \u001b[0mccy_data\u001b[0m\u001b[0;34m.\u001b[0m\u001b[0misna\u001b[0m\u001b[0;34m.\u001b[0m\u001b[0msum\u001b[0m\u001b[0;34m(\u001b[0m\u001b[0;34m)\u001b[0m\u001b[0;34m\u001b[0m\u001b[0;34m\u001b[0m\u001b[0m\n\u001b[0m",
            "\u001b[0;31mAttributeError\u001b[0m: 'function' object has no attribute 'sum'"
          ]
        }
      ]
    },
    {
      "cell_type": "code",
      "metadata": {
        "colab": {
          "base_uri": "https://localhost:8080/"
        },
        "id": "XxnUmn5zBe3p",
        "outputId": "724d14bf-9c1a-4e98-ca72-53aa6a71819b"
      },
      "source": [
        "idx_data.shape"
      ],
      "execution_count": 18,
      "outputs": [
        {
          "output_type": "execute_result",
          "data": {
            "text/plain": [
              "(1246, 3)"
            ]
          },
          "metadata": {},
          "execution_count": 18
        }
      ]
    },
    {
      "cell_type": "code",
      "metadata": {
        "id": "sUqYav5LBq69"
      },
      "source": [
        ""
      ],
      "execution_count": 9,
      "outputs": []
    }
  ]
}
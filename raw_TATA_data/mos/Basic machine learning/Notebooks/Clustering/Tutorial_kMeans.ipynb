{
 "cells": [
  {
   "cell_type": "markdown",
   "metadata": {
    "colab_type": "text",
    "id": "eIhjYw2SRB31"
   },
   "source": [
    "##  Import Library"
   ]
  },
  {
   "cell_type": "code",
   "execution_count": null,
   "metadata": {
    "colab": {
     "base_uri": "https://localhost:8080/",
     "height": 72
    },
    "colab_type": "code",
    "executionInfo": {
     "elapsed": 2206,
     "status": "ok",
     "timestamp": 1595300035646,
     "user": {
      "displayName": "Parisut Jitpakdee",
      "photoUrl": "",
      "userId": "15756390761819850962"
     },
     "user_tz": -420
    },
    "id": "mQfGtLVJwJL8",
    "outputId": "601b2a58-d53d-482a-95e5-cfcda0626b64"
   },
   "outputs": [],
   "source": [
    "#import package library\n",
    "from sklearn.cluster import KMeans\n",
    "import numpy as np\n",
    "import pandas as pd\n",
    "# some imports to set up plotting \n",
    "import matplotlib.pyplot as plt\n",
    "import seaborn as sns\n",
    "import warnings\n",
    "warnings.filterwarnings(\"ignore\")\n",
    "%matplotlib inline"
   ]
  },
  {
   "cell_type": "markdown",
   "metadata": {
    "colab_type": "text",
    "id": "rdQGwAED-o_K"
   },
   "source": [
    "##  Exploratory Data Analysis "
   ]
  },
  {
   "cell_type": "markdown",
   "metadata": {
    "colab_type": "text",
    "id": "v7QkqLETub0S"
   },
   "source": [
    "โหลดไฟล์ CSV ขึ้นมาใส่ Pandas Dataframe แล้วลองวิเคราะห์สำรวจข้อมูล Exploratory Data "
   ]
  },
  {
   "cell_type": "code",
   "execution_count": null,
   "metadata": {
    "colab": {
     "base_uri": "https://localhost:8080/",
     "height": 34
    },
    "colab_type": "code",
    "executionInfo": {
     "elapsed": 1141,
     "status": "ok",
     "timestamp": 1595300053692,
     "user": {
      "displayName": "Parisut Jitpakdee",
      "photoUrl": "",
      "userId": "15756390761819850962"
     },
     "user_tz": -420
    },
    "id": "1K14vs6crqS4",
    "outputId": "95366cd8-d567-4112-ecd0-f2cde9274daa"
   },
   "outputs": [],
   "source": [
    "df =  pd.read_csv('Mall_Customers.csv')\n",
    "df.shape"
   ]
  },
  {
   "cell_type": "markdown",
   "metadata": {
    "colab_type": "text",
    "id": "rUQqjDkwui8I"
   },
   "source": [
    "ดูข้อมูลตัวอย่าง 5 แถวแรก"
   ]
  },
  {
   "cell_type": "code",
   "execution_count": null,
   "metadata": {
    "colab": {
     "base_uri": "https://localhost:8080/",
     "height": 203
    },
    "colab_type": "code",
    "executionInfo": {
     "elapsed": 1210,
     "status": "ok",
     "timestamp": 1595300058399,
     "user": {
      "displayName": "Parisut Jitpakdee",
      "photoUrl": "",
      "userId": "15756390761819850962"
     },
     "user_tz": -420
    },
    "id": "GBBRhNJSsnRH",
    "outputId": "55194f93-e0b5-4222-cbff-65e08ad10234"
   },
   "outputs": [],
   "source": [
    "df.head()"
   ]
  },
  {
   "cell_type": "markdown",
   "metadata": {
    "colab_type": "text",
    "id": "bJNLHzraulpM"
   },
   "source": [
    "**ดูสถิติข้อมูล**"
   ]
  },
  {
   "cell_type": "code",
   "execution_count": null,
   "metadata": {
    "colab": {
     "base_uri": "https://localhost:8080/",
     "height": 296
    },
    "colab_type": "code",
    "executionInfo": {
     "elapsed": 1184,
     "status": "ok",
     "timestamp": 1595300068690,
     "user": {
      "displayName": "Parisut Jitpakdee",
      "photoUrl": "",
      "userId": "15756390761819850962"
     },
     "user_tz": -420
    },
    "id": "ChtbBigKsodV",
    "outputId": "9d8acd13-b44d-4088-d6a7-42d96d9ae874"
   },
   "outputs": [],
   "source": [
    "df.describe()"
   ]
  },
  {
   "cell_type": "markdown",
   "metadata": {
    "colab_type": "text",
    "id": "07YammKpuo_5"
   },
   "source": [
    "ดูชนิดข้อมูล เป็นตัวเลข ยกเว้น Gender ที่เป็น Object (String)"
   ]
  },
  {
   "cell_type": "code",
   "execution_count": null,
   "metadata": {
    "colab": {
     "base_uri": "https://localhost:8080/",
     "height": 122
    },
    "colab_type": "code",
    "executionInfo": {
     "elapsed": 1153,
     "status": "ok",
     "timestamp": 1595300072199,
     "user": {
      "displayName": "Parisut Jitpakdee",
      "photoUrl": "",
      "userId": "15756390761819850962"
     },
     "user_tz": -420
    },
    "id": "DXSrbxsHt-Ae",
    "outputId": "c6894cae-8ba9-4456-eed1-ed4419007955"
   },
   "outputs": [],
   "source": [
    "df.dtypes"
   ]
  },
  {
   "cell_type": "code",
   "execution_count": null,
   "metadata": {
    "colab": {
     "base_uri": "https://localhost:8080/",
     "height": 122
    },
    "colab_type": "code",
    "executionInfo": {
     "elapsed": 1101,
     "status": "ok",
     "timestamp": 1595300075583,
     "user": {
      "displayName": "Parisut Jitpakdee",
      "photoUrl": "",
      "userId": "15756390761819850962"
     },
     "user_tz": -420
    },
    "id": "os1ayW-9uJCh",
    "outputId": "69417237-bf4a-43e6-cac5-02d8cece7974"
   },
   "outputs": [],
   "source": [
    "df.isnull().sum()"
   ]
  },
  {
   "cell_type": "markdown",
   "metadata": {
    "colab_type": "text",
    "id": "2lKsl3emvOz7"
   },
   "source": [
    "### ดู Histogram ของทั้ง 3 Column ที่เป็นตัวเลข"
   ]
  },
  {
   "cell_type": "markdown",
   "metadata": {
    "colab_type": "text",
    "id": "1AUrZF7Dvylu"
   },
   "source": [
    "ดูการการะจายข้อมูลของทั้ง 3 Column"
   ]
  },
  {
   "cell_type": "code",
   "execution_count": null,
   "metadata": {
    "colab": {
     "base_uri": "https://localhost:8080/",
     "height": 404
    },
    "colab_type": "code",
    "executionInfo": {
     "elapsed": 2050,
     "status": "ok",
     "timestamp": 1595300080727,
     "user": {
      "displayName": "Parisut Jitpakdee",
      "photoUrl": "",
      "userId": "15756390761819850962"
     },
     "user_tz": -420
    },
    "id": "pxrlrPVkuY0j",
    "outputId": "50365d0c-dfa7-4c16-d7de-40305c3603a2"
   },
   "outputs": [],
   "source": [
    "plt.figure(1 , figsize = (15 , 6))\n",
    "n = 0 \n",
    "for x in ['Age' , 'Annual Income (k$)' , 'Spending Score (1-100)']:\n",
    "    n += 1\n",
    "    plt.subplot(1 , 3 , n)\n",
    "    plt.subplots_adjust(hspace =0.5 , wspace = 0.5)\n",
    "    sns.distplot(df[x] , bins = 20)\n",
    "    plt.title('Distplot of {}'.format(x))\n",
    "plt.show()"
   ]
  },
  {
   "cell_type": "markdown",
   "metadata": {
    "colab_type": "text",
    "id": "KGfygobHvTph"
   },
   "source": [
    "### สัดส่วน แต่ละเพศ"
   ]
  },
  {
   "cell_type": "markdown",
   "metadata": {
    "colab_type": "text",
    "id": "fp-qdHxdvlJY"
   },
   "source": [
    "นับจำนวนตัวอย่างข้อมูล แยก Gender"
   ]
  },
  {
   "cell_type": "code",
   "execution_count": null,
   "metadata": {
    "colab": {
     "base_uri": "https://localhost:8080/",
     "height": 70
    },
    "colab_type": "code",
    "executionInfo": {
     "elapsed": 1072,
     "status": "ok",
     "timestamp": 1595300084973,
     "user": {
      "displayName": "Parisut Jitpakdee",
      "photoUrl": "",
      "userId": "15756390761819850962"
     },
     "user_tz": -420
    },
    "id": "kF46MsO87Fzl",
    "outputId": "c1c20840-4cfc-4d3c-dcd7-6d02467815fb"
   },
   "outputs": [],
   "source": [
    "labels = ['Female', 'Male']\n",
    "size = df['Gender'].value_counts()\n",
    "size"
   ]
  },
  {
   "cell_type": "code",
   "execution_count": null,
   "metadata": {
    "colab": {
     "base_uri": "https://localhost:8080/",
     "height": 432
    },
    "colab_type": "code",
    "executionInfo": {
     "elapsed": 1186,
     "status": "ok",
     "timestamp": 1595300088058,
     "user": {
      "displayName": "Parisut Jitpakdee",
      "photoUrl": "",
      "userId": "15756390761819850962"
     },
     "user_tz": -420
    },
    "id": "gpmR1zkUvlgH",
    "outputId": "aec0931f-d738-4ceb-f191-8fe57444285b"
   },
   "outputs": [],
   "source": [
    "plt.rcParams['figure.figsize'] = (7, 7)\n",
    "plt.pie(size,labels = labels, autopct = '%.2f%%')\n",
    "plt.title('Gender', fontsize = 20)\n",
    "plt.axis('off')\n",
    "plt.legend()\n",
    "plt.show()"
   ]
  },
  {
   "cell_type": "markdown",
   "metadata": {
    "colab_type": "text",
    "id": "11MziEtdvmFH"
   },
   "source": [
    "### พล็อตกราฟความสัมพันธ์ ระหว่าง Age, Annual Income, Spending Score"
   ]
  },
  {
   "cell_type": "markdown",
   "metadata": {
    "colab_type": "text",
    "id": "pjxdAQR5xM5o"
   },
   "source": [
    "พล็อตข้อมูล และ fit ด้วย Linear Regression โดยยังไม่สนใจเพศ Gender"
   ]
  },
  {
   "cell_type": "code",
   "execution_count": null,
   "metadata": {
    "colab": {
     "base_uri": "https://localhost:8080/",
     "height": 443
    },
    "colab_type": "code",
    "executionInfo": {
     "elapsed": 4196,
     "status": "ok",
     "timestamp": 1595300095695,
     "user": {
      "displayName": "Parisut Jitpakdee",
      "photoUrl": "",
      "userId": "15756390761819850962"
     },
     "user_tz": -420
    },
    "id": "jr82qAOfxJ2W",
    "outputId": "a8aa9963-882a-4abe-ac94-2c07c3c1af11"
   },
   "outputs": [],
   "source": [
    "plt.figure(1 , figsize = (10 , 7))\n",
    "n = 0 \n",
    "for x in ['Age' , 'Annual Income (k$)' , 'Spending Score (1-100)']:\n",
    "    for y in ['Age' , 'Annual Income (k$)' , 'Spending Score (1-100)']:\n",
    "        n += 1\n",
    "        plt.subplot(3 , 3 , n)\n",
    "        plt.subplots_adjust(hspace = 0.5 , wspace = 0.5)\n",
    "        sns.regplot(x = x , y = y , data = df)\n",
    "        plt.ylabel(y.split()[0]+' '+y.split()[1] if len(y.split()) > 1 else y )\n",
    "plt.show()"
   ]
  },
  {
   "cell_type": "code",
   "execution_count": null,
   "metadata": {
    "colab": {
     "base_uri": "https://localhost:8080/",
     "height": 281
    },
    "colab_type": "code",
    "executionInfo": {
     "elapsed": 1517,
     "status": "ok",
     "timestamp": 1595300099198,
     "user": {
      "displayName": "Parisut Jitpakdee",
      "photoUrl": "",
      "userId": "15756390761819850962"
     },
     "user_tz": -420
    },
    "id": "_zrz_2ikiV9A",
    "outputId": "ac064816-5ec6-4a48-9e00-11ea1aea5b56"
   },
   "outputs": [],
   "source": [
    "#เปรียบเทียบ อายุ เพศ\n",
    "plt.figure(figsize=(8,4))\n",
    "sns.distplot( df[df[\"Gender\"]==\"Male\"].Age, color=\"skyblue\",label=\"Male\")\n",
    "sns.distplot( df[df[\"Gender\"]==\"Female\"].Age, color=\"Red\",label=\"Female\")\n",
    "plt.legend();"
   ]
  },
  {
   "cell_type": "code",
   "execution_count": null,
   "metadata": {
    "colab": {
     "base_uri": "https://localhost:8080/",
     "height": 279
    },
    "colab_type": "code",
    "executionInfo": {
     "elapsed": 1417,
     "status": "ok",
     "timestamp": 1595300102831,
     "user": {
      "displayName": "Parisut Jitpakdee",
      "photoUrl": "",
      "userId": "15756390761819850962"
     },
     "user_tz": -420
    },
    "id": "KOyfzkmYjCBM",
    "outputId": "85b257ce-c65b-4da9-d5a4-f33f554988e9"
   },
   "outputs": [],
   "source": [
    "#เปรียบเทียบ รายได้ เพศ\n",
    "plt.figure(figsize=(8,4))\n",
    "sns.distplot( df[df[\"Gender\"]==\"Male\"][\"Annual Income (k$)\"], color=\"skyblue\",label=\"Male\")\n",
    "sns.distplot( df[df[\"Gender\"]==\"Female\"][\"Annual Income (k$)\"], color=\"Red\",label=\"Female\")\n",
    "plt.legend();"
   ]
  },
  {
   "cell_type": "code",
   "execution_count": null,
   "metadata": {
    "colab": {
     "base_uri": "https://localhost:8080/",
     "height": 279
    },
    "colab_type": "code",
    "executionInfo": {
     "elapsed": 1278,
     "status": "ok",
     "timestamp": 1595300107536,
     "user": {
      "displayName": "Parisut Jitpakdee",
      "photoUrl": "",
      "userId": "15756390761819850962"
     },
     "user_tz": -420
    },
    "id": "hThpeHK9jfCS",
    "outputId": "e92ec74d-13e0-4687-c642-7c2a7848f1a0"
   },
   "outputs": [],
   "source": [
    "#เปรียบเทียบ คะแนนการใช้จ่าย เพศ\n",
    "plt.figure(figsize=(8,4))\n",
    "sns.distplot( df[df[\"Gender\"]==\"Male\"][\"Spending Score (1-100)\"], color=\"skyblue\",label=\"Male\")\n",
    "sns.distplot( df[df[\"Gender\"]==\"Female\"][\"Spending Score (1-100)\"], color=\"Red\",label=\"Female\")\n",
    "plt.legend();"
   ]
  },
  {
   "cell_type": "markdown",
   "metadata": {
    "colab_type": "text",
    "id": "ZtomxnNrnUKU"
   },
   "source": [
    "##แปลง Gender เป็นตัวเลข"
   ]
  },
  {
   "cell_type": "code",
   "execution_count": null,
   "metadata": {
    "colab": {},
    "colab_type": "code",
    "id": "aHLc_ZOWnTfe"
   },
   "outputs": [],
   "source": [
    "gender = {'Male': 0,'Female': 1} \n",
    "df.Gender = [gender[item] for item in df.Gender] "
   ]
  },
  {
   "cell_type": "code",
   "execution_count": null,
   "metadata": {
    "colab": {
     "base_uri": "https://localhost:8080/",
     "height": 203
    },
    "colab_type": "code",
    "executionInfo": {
     "elapsed": 1091,
     "status": "ok",
     "timestamp": 1595300115706,
     "user": {
      "displayName": "Parisut Jitpakdee",
      "photoUrl": "",
      "userId": "15756390761819850962"
     },
     "user_tz": -420
    },
    "id": "TtinmeWtoUnk",
    "outputId": "91b62fc9-188a-493a-b10e-a8e3fad35cb1"
   },
   "outputs": [],
   "source": [
    "df.head()"
   ]
  },
  {
   "cell_type": "markdown",
   "metadata": {
    "colab_type": "text",
    "id": "DxKgxI4UEON1"
   },
   "source": [
    "### Heatmap ของ Correlation "
   ]
  },
  {
   "cell_type": "code",
   "execution_count": null,
   "metadata": {
    "colab": {
     "base_uri": "https://localhost:8080/",
     "height": 546
    },
    "colab_type": "code",
    "executionInfo": {
     "elapsed": 1291,
     "status": "ok",
     "timestamp": 1595300119552,
     "user": {
      "displayName": "Parisut Jitpakdee",
      "photoUrl": "",
      "userId": "15756390761819850962"
     },
     "user_tz": -420
    },
    "id": "HPnUGsDsDYWB",
    "outputId": "5d8a1d37-fab5-4ca6-819b-ad26046cf8a2"
   },
   "outputs": [],
   "source": [
    "plt.rcParams['figure.figsize'] = (12, 8)\n",
    "sns.heatmap(df.drop(\"CustomerID\", axis=1).corr(), cmap = 'BuPu', annot = True)\n",
    "plt.title('Heatmap for the Data', fontsize = 20)\n",
    "plt.show()"
   ]
  },
  {
   "cell_type": "markdown",
   "metadata": {},
   "source": [
    "สำหรับ kMean ข้อมูลที่ใช้จำเป็นต้องเป็น numerical"
   ]
  },
  {
   "cell_type": "code",
   "execution_count": null,
   "metadata": {
    "colab": {
     "base_uri": "https://localhost:8080/",
     "height": 203
    },
    "colab_type": "code",
    "executionInfo": {
     "elapsed": 1098,
     "status": "ok",
     "timestamp": 1595300125358,
     "user": {
      "displayName": "Parisut Jitpakdee",
      "photoUrl": "",
      "userId": "15756390761819850962"
     },
     "user_tz": -420
    },
    "id": "Fxku0q4DyhUF",
    "outputId": "6a612fbf-b0d3-419a-d7b7-51511a941ccd"
   },
   "outputs": [],
   "source": [
    "X = df.drop([\"Gender\",\"CustomerID\"], axis=1) #คำถาม: ทำไมถึงตัด CustomerID ทิ้ง?\n",
    "X.head()"
   ]
  },
  {
   "cell_type": "markdown",
   "metadata": {},
   "source": [
    "สังเกตว่าข้อมูลนั้นไม่ได้อยู่ใน scale เดียวกัน จึงจำเป็นต้องทำการปรับให้ใกล้เคียงกันก่อน"
   ]
  },
  {
   "cell_type": "code",
   "execution_count": null,
   "metadata": {},
   "outputs": [],
   "source": [
    "from sklearn.preprocessing import StandardScaler\n",
    "scaler = StandardScaler()\n",
    "X_standard=scaler.fit_transform(X)"
   ]
  },
  {
   "cell_type": "code",
   "execution_count": null,
   "metadata": {
    "colab": {
     "base_uri": "https://localhost:8080/",
     "height": 512
    },
    "colab_type": "code",
    "executionInfo": {
     "elapsed": 6377,
     "status": "ok",
     "timestamp": 1595300176505,
     "user": {
      "displayName": "Parisut Jitpakdee",
      "photoUrl": "",
      "userId": "15756390761819850962"
     },
     "user_tz": -420
    },
    "id": "LRlqVIZtuOkB",
    "outputId": "11c33e23-72ce-4093-ba68-38de1d38c0ac"
   },
   "outputs": [],
   "source": [
    "from sklearn.cluster import KMeans\n",
    "km = KMeans(n_clusters=3)\n",
    "km.fit(X_standard)\n",
    "label = km.predict(X_standard)\n",
    "centers_standard = km.cluster_centers_"
   ]
  },
  {
   "cell_type": "code",
   "execution_count": null,
   "metadata": {},
   "outputs": [],
   "source": [
    "from mpl_toolkits.mplot3d import Axes3D\n",
    "import ipywidgets as widgets\n",
    "from IPython.display import display"
   ]
  },
  {
   "cell_type": "code",
   "execution_count": null,
   "metadata": {},
   "outputs": [],
   "source": [
    "fig = plt.figure(1, figsize=(6,6))\n",
    "ax = fig.add_subplot(projection='3d')\n",
    "ax.scatter(X_standard[:, 0], X_standard[:, 1], X_standard[:, 2], c=label, s=30)\n",
    "ax.scatter (centers_standard[:,0],centers_standard[:,1],centers_standard[:,2], c='black',s=200)\n",
    "ax.set_title(\"k-Mean Results Standardized\")\n",
    "ax.set_xlabel(\"Age\")\n",
    "ax.set_ylabel(\"Annual Income\")\n",
    "ax.set_zlabel(\"Spending Score\")\n",
    "\n",
    "plt.show()"
   ]
  },
  {
   "cell_type": "markdown",
   "metadata": {},
   "source": [
    "เปลี่ยนข้อมูลกลับไป scale เดิม"
   ]
  },
  {
   "cell_type": "code",
   "execution_count": null,
   "metadata": {},
   "outputs": [],
   "source": [
    "centers_original = scaler.inverse_transform(centers_standard)\n",
    "X_original = scaler.inverse_transform(X_standard) # จริงๆใช้ค่า X ตั้งต้นก็ได้"
   ]
  },
  {
   "cell_type": "code",
   "execution_count": null,
   "metadata": {},
   "outputs": [],
   "source": [
    "pd.DataFrame(centers_original, columns=X.columns) #ใส่ชื่อ column เดิมดู"
   ]
  },
  {
   "cell_type": "code",
   "execution_count": null,
   "metadata": {},
   "outputs": [],
   "source": [
    "fig = plt.figure(1, figsize=(6,6))\n",
    "ax = fig.add_subplot(projection='3d')\n",
    "ax.scatter(X_original[:, 0], X_original[:, 1], X_original[:, 2], c=label, s=30)\n",
    "ax.scatter (centers_original[:,0],centers_original[:,1],centers_original[:,2], c='black',s=200)\n",
    "ax.set_title(\"k-Mean Results\")\n",
    "ax.set_xlabel(\"Age\")\n",
    "ax.set_ylabel(\"Annual Income\")\n",
    "ax.set_zlabel(\"Spending Score\")\n",
    "\n",
    "plt.show()"
   ]
  },
  {
   "cell_type": "markdown",
   "metadata": {},
   "source": [
    "----\n",
    "## Choosing proper *k*"
   ]
  },
  {
   "cell_type": "markdown",
   "metadata": {},
   "source": [
    "ทดลอง cluster ด้วยค่า k หลายๆค่าและเลือกอันที่ inertia เหมาะสมที่สุด (ที่ **\"elbow\"**)"
   ]
  },
  {
   "cell_type": "code",
   "execution_count": null,
   "metadata": {},
   "outputs": [],
   "source": [
    "inertia_list = []\n",
    "for i in range(1, 11):\n",
    "    kmeans = KMeans(n_clusters = i, random_state = 42)\n",
    "    kmeans.fit(X_standard)\n",
    "    # inertia method returns wcss for that model\n",
    "    inertia_list.append(kmeans.inertia_)"
   ]
  },
  {
   "cell_type": "code",
   "execution_count": null,
   "metadata": {},
   "outputs": [],
   "source": [
    "plt.plot(inertia_list,marker='o',color='red')\n",
    "plt.xticks(range(0,10), [str(i) for i in range (1,11)])\n",
    "plt.xlabel(\"Number of clusters (k)\")\n",
    "plt.ylabel(\"Inertia\")"
   ]
  },
  {
   "cell_type": "markdown",
   "metadata": {},
   "source": [
    "จะเห็นได้ว่าค่าของ k=2,4 เป็นอีกตัวเลือกหนึ่งที่น่าสนใจ"
   ]
  },
  {
   "cell_type": "code",
   "execution_count": null,
   "metadata": {},
   "outputs": [],
   "source": [
    "km2 = KMeans(n_clusters=4)\n",
    "km2.fit(X_standard)\n",
    "label2 = km2.predict(X_standard)\n",
    "centers_standard2 = km2.cluster_centers_"
   ]
  },
  {
   "cell_type": "code",
   "execution_count": null,
   "metadata": {},
   "outputs": [],
   "source": [
    "centers_original2 = scaler.inverse_transform(centers_standard2)"
   ]
  },
  {
   "cell_type": "code",
   "execution_count": null,
   "metadata": {
    "scrolled": true
   },
   "outputs": [],
   "source": [
    "pd.DataFrame(centers_original2, columns=X.columns) #ใส่ชื่อ column เดิมดู"
   ]
  },
  {
   "cell_type": "markdown",
   "metadata": {},
   "source": [
    "Plot ดู"
   ]
  },
  {
   "cell_type": "code",
   "execution_count": null,
   "metadata": {},
   "outputs": [],
   "source": [
    "from mpl_toolkits.mplot3d import Axes3D\n",
    "import ipywidgets as widgets\n",
    "from IPython.display import display"
   ]
  },
  {
   "cell_type": "code",
   "execution_count": null,
   "metadata": {
    "scrolled": true
   },
   "outputs": [],
   "source": [
    "%matplotlib notebook\n",
    "fig = plt.figure(2, figsize=(6,6))\n",
    "ax = fig.add_subplot(projection='3d')\n",
    "ax.scatter(X_original[:, 0], X_original[:, 1], X_original[:, 2], c=label2, s=30)\n",
    "ax.scatter (centers_original2[:,0],centers_original2[:,1],centers_original2[:,2], c='black',s=200)\n",
    "ax.set_title(\"k-Mean Results\")\n",
    "ax.set_xlabel(\"Age\")\n",
    "ax.set_ylabel(\"Annual Income\")\n",
    "ax.set_zlabel(\"Spending Score\")\n",
    "ax.w_zaxis.set_ticklabels([])\n",
    "\n",
    "plt.show()\n",
    "\n",
    "def update_plot(angle1 = 20, angle2 = 40):\n",
    "    # set view angle\n",
    "    ax.view_init(angle1, angle2)\n",
    "    fig.canvas.draw_idle()\n",
    "\n",
    "# prepare widgets\n",
    "angle1_slider = widgets.IntSlider(20, min = 0, max = 60)\n",
    "angle1_label = widgets.Label(value = 'Angle 1 value is: ' + str(angle1_slider.value))\n",
    "display(angle1_slider, angle1_label)\n",
    "\n",
    "# handle angle 1 update\n",
    "def update_angle1(value):\n",
    "    update_plot(angle2 = value['new'])\n",
    "    angle1_label.value = 'Angle 2 value is: ' + str(value.new)\n",
    "\n",
    "angle1_slider.observe(update_angle1, names = 'value')"
   ]
  },
  {
   "cell_type": "markdown",
   "metadata": {},
   "source": [
    "*Code ของ widget นี้ปรับมาจาก (https://stackoverflow.com/questions/42998009/clear-matplotlib-figure-in-jupyter-python-notebook)*"
   ]
  },
  {
   "cell_type": "markdown",
   "metadata": {},
   "source": [
    "----\n",
    "## Silouette Score"
   ]
  },
  {
   "cell_type": "markdown",
   "metadata": {
    "colab_type": "text",
    "id": "B-SvJgjXvs7x"
   },
   "source": [
    "เพื่อช่วยในการตัดสินใจ เราอาจนำ silouette score เข้ามาช่วยพิจารณาด้วย \n",
    "*(code ของ plot ปรับจาก https://scikit-learn.org/stable/modules/generated/sklearn.metrics.silhouette_score.html)*"
   ]
  },
  {
   "cell_type": "code",
   "execution_count": null,
   "metadata": {
    "colab": {},
    "colab_type": "code",
    "id": "IwzfKp3qvoGf",
    "scrolled": true
   },
   "outputs": [],
   "source": [
    "%matplotlib inline\n",
    "from sklearn.metrics import silhouette_samples, silhouette_score\n",
    "import matplotlib.cm as cm\n",
    "\n",
    "range_n_clusters = range(2,10)\n",
    "\n",
    "for n_clusters in range_n_clusters:\n",
    "    # Create a subplot with 1 row and 2 columns\n",
    "    fig, ax1 = plt.subplots(1, 1)\n",
    "    fig.set_size_inches(18, 7)\n",
    "\n",
    "    # The 1st subplot is the silhouette plot\n",
    "    # The silhouette coefficient can range from -1, 1 but in this example all\n",
    "    # lie within [-0.1, 1]\n",
    "    ax1.set_xlim([-0.1, 1])\n",
    "    # The (n_clusters+1)*10 is for inserting blank space between silhouette\n",
    "    # plots of individual clusters, to demarcate them clearly.\n",
    "    ax1.set_ylim([0, len(X_standard) + (n_clusters + 1) * 10])\n",
    "\n",
    "    # Initialize the clusterer with n_clusters value and a random generator\n",
    "    # seed of 10 for reproducibility.\n",
    "    clusterer = KMeans(n_clusters=n_clusters, random_state=10)\n",
    "    cluster_labels = clusterer.fit_predict(X_standard)\n",
    "\n",
    "    # The silhouette_score gives the average value for all the samples.\n",
    "    # This gives a perspective into the density and separation of the formed\n",
    "    # clusters\n",
    "    silhouette_avg = silhouette_score(X_standard, cluster_labels)\n",
    "    print(\"For n_clusters =\", n_clusters,\n",
    "          \"The average silhouette_score is :\", silhouette_avg)\n",
    "\n",
    "    # Compute the silhouette scores for each sample\n",
    "    sample_silhouette_values = silhouette_samples(X_standard, cluster_labels)\n",
    "\n",
    "    y_lower = 10\n",
    "    for i in range(n_clusters):\n",
    "        # Aggregate the silhouette scores for samples belonging to\n",
    "        # cluster i, and sort them\n",
    "        ith_cluster_silhouette_values = \\\n",
    "            sample_silhouette_values[cluster_labels == i]\n",
    "\n",
    "        ith_cluster_silhouette_values.sort()\n",
    "\n",
    "        size_cluster_i = ith_cluster_silhouette_values.shape[0]\n",
    "        y_upper = y_lower + size_cluster_i\n",
    "\n",
    "        color = cm.nipy_spectral(float(i) / n_clusters)\n",
    "        ax1.fill_betweenx(np.arange(y_lower, y_upper),\n",
    "                          0, ith_cluster_silhouette_values,\n",
    "                          facecolor=color, edgecolor=color, alpha=0.7)\n",
    "\n",
    "        # Label the silhouette plots with their cluster numbers at the middle\n",
    "        ax1.text(-0.05, y_lower + 0.5 * size_cluster_i, str(i))\n",
    "\n",
    "        # Compute the new y_lower for next plot\n",
    "        y_lower = y_upper + 10  # 10 for the 0 samples\n",
    "\n",
    "    ax1.set_title(\"The silhouette plot for the various clusters.\")\n",
    "    ax1.set_xlabel(\"The silhouette coefficient values\")\n",
    "    ax1.set_ylabel(\"Cluster label\")\n",
    "\n",
    "    # The vertical line for average silhouette score of all the values\n",
    "    ax1.axvline(x=silhouette_avg, color=\"red\", linestyle=\"--\")\n",
    "\n",
    "    ax1.set_yticks([])  # Clear the yaxis labels / ticks\n",
    "    ax1.set_xticks([-0.1, 0, 0.2, 0.4, 0.6, 0.8, 1])\n",
    "\n",
    "\n",
    "plt.show()"
   ]
  },
  {
   "cell_type": "code",
   "execution_count": null,
   "metadata": {},
   "outputs": [],
   "source": []
  }
 ],
 "metadata": {
  "accelerator": "GPU",
  "colab": {
   "collapsed_sections": [],
   "name": "Copy of Tutorial_Hierarchical_clustering.ipynb",
   "provenance": [
    {
     "file_id": "11SvP2Jq3khCFgeLRPOI4jw4pVXoY2Rkh",
     "timestamp": 1595301120812
    }
   ]
  },
  "kernelspec": {
   "display_name": "Python 3",
   "language": "python",
   "name": "python3"
  },
  "language_info": {
   "codemirror_mode": {
    "name": "ipython",
    "version": 3
   },
   "file_extension": ".py",
   "mimetype": "text/x-python",
   "name": "python",
   "nbconvert_exporter": "python",
   "pygments_lexer": "ipython3",
   "version": "3.7.1"
  }
 },
 "nbformat": 4,
 "nbformat_minor": 1
}

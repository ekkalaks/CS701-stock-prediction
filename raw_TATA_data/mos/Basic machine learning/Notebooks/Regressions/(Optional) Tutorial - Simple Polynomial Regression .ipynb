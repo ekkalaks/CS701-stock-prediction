{
 "cells": [
  {
   "cell_type": "markdown",
   "metadata": {},
   "source": [
    "# Tutorial: Simple Polynomial Regression"
   ]
  },
  {
   "cell_type": "markdown",
   "metadata": {},
   "source": [
    "In this tutorial, we will train a simple polynomial regression model to fit a simple 1-variable data and select appropriate polynomdel degree for fitting.\n",
    "\n",
    "Portion of content for this tutorial is taken from Python Data Science Handbook by Jake VanderPlas"
   ]
  },
  {
   "cell_type": "markdown",
   "metadata": {},
   "source": [
    "## Importing the libraries"
   ]
  },
  {
   "cell_type": "code",
   "execution_count": null,
   "metadata": {},
   "outputs": [],
   "source": [
    "%matplotlib inline\n",
    "import pandas as pd\n",
    "import numpy as np\n",
    "import matplotlib.pyplot as plt\n",
    "import seaborn; seaborn.set() \n",
    "from sklearn.preprocessing import PolynomialFeatures\n",
    "from sklearn.linear_model import LinearRegression"
   ]
  },
  {
   "cell_type": "markdown",
   "metadata": {
    "colab_type": "text",
    "id": "6JhpWJi59J1p"
   },
   "source": [
    "## Importing the dataset"
   ]
  },
  {
   "cell_type": "code",
   "execution_count": null,
   "metadata": {
    "colab": {},
    "colab_type": "code",
    "id": "f8GfYDZ59O18"
   },
   "outputs": [],
   "source": [
    "df = pd.read_csv('poly_example.csv')"
   ]
  },
  {
   "cell_type": "code",
   "execution_count": null,
   "metadata": {},
   "outputs": [],
   "source": [
    "df.head()"
   ]
  },
  {
   "cell_type": "code",
   "execution_count": null,
   "metadata": {},
   "outputs": [],
   "source": [
    "df.info()"
   ]
  },
  {
   "cell_type": "code",
   "execution_count": null,
   "metadata": {},
   "outputs": [],
   "source": [
    "X = df[[\"Feature 1\"]] \n",
    "y = df[\"Target\"]"
   ]
  },
  {
   "cell_type": "markdown",
   "metadata": {},
   "source": [
    "## Visualization the dataset"
   ]
  },
  {
   "cell_type": "code",
   "execution_count": null,
   "metadata": {},
   "outputs": [],
   "source": [
    "plt.scatter(X, y)"
   ]
  },
  {
   "cell_type": "markdown",
   "metadata": {},
   "source": [
    "The data is definitely not linear, potentially good for polynomial fitting"
   ]
  },
  {
   "cell_type": "markdown",
   "metadata": {
    "colab_type": "text",
    "id": "AyhQaTwP9RzG"
   },
   "source": [
    "## Splitting the dataset into the Training set and Test set"
   ]
  },
  {
   "cell_type": "markdown",
   "metadata": {},
   "source": [
    "We will be using 70-30 split for this case "
   ]
  },
  {
   "cell_type": "code",
   "execution_count": null,
   "metadata": {
    "colab": {},
    "colab_type": "code",
    "id": "bxOOauiN9VpC"
   },
   "outputs": [],
   "source": [
    "from sklearn.model_selection import train_test_split\n",
    "X_train, X_test, y_train, y_test = train_test_split(X, y, test_size = 0.3, random_state = 42)"
   ]
  },
  {
   "cell_type": "markdown",
   "metadata": {},
   "source": [
    "## Polynomial Features"
   ]
  },
  {
   "cell_type": "markdown",
   "metadata": {},
   "source": [
    "PolynomialFeature() can be used to transform data into multiple features of the specified degree"
   ]
  },
  {
   "cell_type": "code",
   "execution_count": null,
   "metadata": {},
   "outputs": [],
   "source": [
    "#Task: Explore and see what happens when we change the number\n",
    "p5 = PolynomialFeatures(degree=5)\n",
    "X_5 = p5.fit_transform(X_train)"
   ]
  },
  {
   "cell_type": "code",
   "execution_count": null,
   "metadata": {},
   "outputs": [],
   "source": [
    "X_train.head()"
   ]
  },
  {
   "cell_type": "code",
   "execution_count": null,
   "metadata": {},
   "outputs": [],
   "source": [
    "#put in data frame to make it easily readable\n",
    "pd.DataFrame(X_5).head()"
   ]
  },
  {
   "cell_type": "markdown",
   "metadata": {},
   "source": [
    "## Visualizing polynomial fits of multiple degrees"
   ]
  },
  {
   "cell_type": "markdown",
   "metadata": {},
   "source": [
    "The key question here is what degree of polynomial is appropriate? Visualization maybe a good tools to see that."
   ]
  },
  {
   "cell_type": "code",
   "execution_count": null,
   "metadata": {},
   "outputs": [],
   "source": [
    "# Create a range of x value for plotting\n",
    "X_plot = np.linspace(-0.1, 5, 500)[:, None]\n",
    "\n",
    "#plot the data\n",
    "plt.scatter(X_train[\"Feature 1\"], y_train, color='black')\n",
    "\n",
    "#plotting polynomial\n",
    "axis = plt.axis()\n",
    "for deg in range(1,6):# Trying degree 1 - 5\n",
    "    #changing polynomial to the degree we want\n",
    "    pf = PolynomialFeatures(degree=deg)\n",
    "    X_p = pf.fit_transform(X_train)\n",
    "    #fitting it to regression\n",
    "    lr = LinearRegression()\n",
    "    lr.fit(X_p, y_train)\n",
    "    #plotting functions \n",
    "    y_plot = lr.predict(pf.fit_transform(X_plot))\n",
    "    plt.plot(X_plot.ravel(), y_plot, label='degree={0}'.format(deg))\n",
    "plt.xlim(-0.1, 1.0);\n",
    "plt.ylim(-18, 18);\n",
    "plt.legend(loc='best');"
   ]
  },
  {
   "cell_type": "markdown",
   "metadata": {},
   "source": [
    "## Visualize the validation curve"
   ]
  },
  {
   "cell_type": "markdown",
   "metadata": {},
   "source": [
    "Scikit-learn provide a tools that compute training + validation score when varying parameters.\n",
    "\n",
    "We can use this to see what happens when we vary the degree of polynomial\n",
    "\n",
    "**The code in this section is taken from Python Data Science Handbook**"
   ]
  },
  {
   "cell_type": "code",
   "execution_count": null,
   "metadata": {},
   "outputs": [],
   "source": [
    "#making a pipeline to chain the polynomial feature transformation and linear regression\n",
    "from sklearn.pipeline import make_pipeline\n",
    "\n",
    "def PolynomialRegression(degree=2, **kwargs):\n",
    "    return make_pipeline(PolynomialFeatures(degree),\n",
    "                         LinearRegression(**kwargs))"
   ]
  },
  {
   "cell_type": "code",
   "execution_count": null,
   "metadata": {},
   "outputs": [],
   "source": [
    "from sklearn.model_selection import validation_curve\n",
    "degree = np.arange(0, 21)\n",
    "train_score, val_score = validation_curve(PolynomialRegression(), X_train, y_train,\n",
    "                                          'polynomialfeatures__degree', degree, cv=8)\n",
    "\n",
    "plt.plot(degree, np.median(train_score, 1), color='blue', label='training score')\n",
    "plt.plot(degree, np.median(val_score, 1), color='red', label='validation score')\n",
    "plt.legend(loc='best')\n",
    "plt.ylim(0, 1)\n",
    "plt.xlabel('degree')\n",
    "plt.ylabel('score');"
   ]
  },
  {
   "cell_type": "markdown",
   "metadata": {},
   "source": [
    "We see that polynomial around the degree of 3 is probably the most appropriate"
   ]
  },
  {
   "cell_type": "markdown",
   "metadata": {},
   "source": [
    "## Predicting the test data"
   ]
  },
  {
   "cell_type": "code",
   "execution_count": null,
   "metadata": {},
   "outputs": [],
   "source": [
    "#fit the model to polynomial of degree 3\n",
    "pf = PolynomialFeatures(3)\n",
    "X_p = pf.fit_transform(X_train)\n",
    "lr = LinearRegression()\n",
    "lr.fit(X_p, y_train)"
   ]
  },
  {
   "cell_type": "code",
   "execution_count": null,
   "metadata": {},
   "outputs": [],
   "source": [
    "#predicint the test result\n",
    "y_pred = lr.predict(pf.fit_transform(X_test))"
   ]
  },
  {
   "cell_type": "markdown",
   "metadata": {},
   "source": [
    "## Evaluate the performance"
   ]
  },
  {
   "cell_type": "code",
   "execution_count": null,
   "metadata": {},
   "outputs": [],
   "source": [
    "from sklearn.metrics import r2_score\n",
    "\n",
    "r2_score(y_test, y_pred) #not bad"
   ]
  },
  {
   "cell_type": "code",
   "execution_count": null,
   "metadata": {},
   "outputs": [],
   "source": [
    "#studying the fit of the training data\n",
    "y_pred_train = lr.predict(X_p)\n",
    "r2_score(y_train, y_pred_train) "
   ]
  },
  {
   "cell_type": "markdown",
   "metadata": {},
   "source": [
    "The model seems to generalize quite ok."
   ]
  },
  {
   "cell_type": "markdown",
   "metadata": {},
   "source": [
    "## What if the polynomial degree is too high?"
   ]
  },
  {
   "cell_type": "code",
   "execution_count": null,
   "metadata": {},
   "outputs": [],
   "source": [
    "#fit the model to polynomial of degree 12\n",
    "pf12 = PolynomialFeatures(12)\n",
    "X_p12 = pf12.fit_transform(X_train)\n",
    "lr12 = LinearRegression()\n",
    "lr12.fit(X_p12, y_train)"
   ]
  },
  {
   "cell_type": "code",
   "execution_count": null,
   "metadata": {},
   "outputs": [],
   "source": [
    "#predict the test result\n",
    "y_pred12 = lr12.predict(pf12.fit_transform(X_test))"
   ]
  },
  {
   "cell_type": "code",
   "execution_count": null,
   "metadata": {},
   "outputs": [],
   "source": [
    "#check the r2_score\n",
    "from sklearn.metrics import r2_score\n",
    "\n",
    "r2_score(y_test.ravel(), y_pred12) #not bad"
   ]
  },
  {
   "cell_type": "code",
   "execution_count": null,
   "metadata": {},
   "outputs": [],
   "source": [
    "#studying the fit of the training data\n",
    "y_pred_train12 = lr12.predict(X_p12)\n",
    "r2_score(y_train, y_pred_train12) "
   ]
  },
  {
   "cell_type": "code",
   "execution_count": null,
   "metadata": {},
   "outputs": [],
   "source": [
    "# Create a range of x value for plotting\n",
    "X_plot12 = np.linspace(-0.1, 5, 500)[:, None]\n",
    "\n",
    "#plot the data\n",
    "plt.scatter(X_train[\"Feature 1\"], y_train, color='black')\n",
    "\n",
    "#plotting polynomial\n",
    "axis = plt.axis()\n",
    "y_plot12 = lr12.predict(pf12.fit_transform(X_plot))\n",
    "plt.plot(X_plot12.ravel(), y_plot12, label='degree={0}'.format(12))\n",
    "plt.xlim(-0.1, 1.0);\n",
    "plt.ylim(-18, 18);\n",
    "plt.legend(loc='best');\n",
    "plt.title(\"Polynomial of degree 12 (training data)\");"
   ]
  },
  {
   "cell_type": "markdown",
   "metadata": {},
   "source": [
    "We see that this shape of curve will probably not generalize well with test data"
   ]
  },
  {
   "cell_type": "code",
   "execution_count": null,
   "metadata": {},
   "outputs": [],
   "source": [
    "#plot the data\n",
    "plt.scatter(X_test[\"Feature 1\"], y_test, color='black')\n",
    "\n",
    "#plotting polynomial\n",
    "axis = plt.axis()\n",
    "y_plot12 = lr12.predict(pf12.fit_transform(X_plot))\n",
    "plt.plot(X_plot12.ravel(), y_plot12, label='degree={0}'.format(12))\n",
    "plt.xlim(-0.1, 1.0);\n",
    "plt.ylim(-18, 18);\n",
    "plt.legend(loc='best');\n",
    "plt.title(\"Polynomial of degree 12 (test data)\");"
   ]
  },
  {
   "cell_type": "code",
   "execution_count": null,
   "metadata": {},
   "outputs": [],
   "source": []
  }
 ],
 "metadata": {
  "kernelspec": {
   "display_name": "Python 3",
   "language": "python",
   "name": "python3"
  },
  "language_info": {
   "codemirror_mode": {
    "name": "ipython",
    "version": 3
   },
   "file_extension": ".py",
   "mimetype": "text/x-python",
   "name": "python",
   "nbconvert_exporter": "python",
   "pygments_lexer": "ipython3",
   "version": "3.7.1"
  }
 },
 "nbformat": 4,
 "nbformat_minor": 2
}

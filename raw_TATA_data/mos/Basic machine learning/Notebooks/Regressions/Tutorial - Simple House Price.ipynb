{
 "cells": [
  {
   "cell_type": "markdown",
   "metadata": {},
   "source": [
    "# Tutorial: House Price"
   ]
  },
  {
   "cell_type": "markdown",
   "metadata": {},
   "source": [
    "In this tutorial, you will be using a dataset consists of houses and its price and try to develop a model to estimate the price of a house if given its characteristics"
   ]
  },
  {
   "cell_type": "markdown",
   "metadata": {},
   "source": [
    "## Importing the libraries"
   ]
  },
  {
   "cell_type": "code",
   "execution_count": null,
   "metadata": {},
   "outputs": [],
   "source": [
    "%matplotlib inline\n",
    "\n",
    "import pandas as pd\n",
    "import numpy as np\n",
    "import matplotlib.pyplot as plt\n",
    "import seaborn as sns\n",
    "from sklearn.preprocessing import scale \n",
    "from sklearn.model_selection import train_test_split\n",
    "from sklearn.linear_model import Ridge, RidgeCV, Lasso, LassoCV\n",
    "from sklearn.metrics import mean_squared_error"
   ]
  },
  {
   "cell_type": "markdown",
   "metadata": {},
   "source": [
    "## Importing the dataset"
   ]
  },
  {
   "cell_type": "code",
   "execution_count": null,
   "metadata": {},
   "outputs": [],
   "source": [
    "#import dataset (Housing-simple.csv)\n",
    "df = "
   ]
  },
  {
   "cell_type": "code",
   "execution_count": null,
   "metadata": {},
   "outputs": [],
   "source": [
    "#Check the data\n"
   ]
  },
  {
   "cell_type": "code",
   "execution_count": null,
   "metadata": {},
   "outputs": [],
   "source": [
    "#check for general property of data (data type/ null entries)\n"
   ]
  },
  {
   "cell_type": "markdown",
   "metadata": {},
   "source": [
    "## Data Preprocessing"
   ]
  },
  {
   "cell_type": "code",
   "execution_count": null,
   "metadata": {},
   "outputs": [],
   "source": [
    "#list of columns that are yes/no\n",
    "binary_column = "
   ]
  },
  {
   "cell_type": "code",
   "execution_count": null,
   "metadata": {},
   "outputs": [],
   "source": [
    "#check unique values just to be sure\n",
    "for c in binary_column:\n",
    "    #print unique value of each column here"
   ]
  },
  {
   "cell_type": "code",
   "execution_count": null,
   "metadata": {},
   "outputs": [],
   "source": [
    "#replacing yes with 1 and no with 0\n",
    "for c in binary_column:\n",
    "    #replacing value of yes/no of the columns here"
   ]
  },
  {
   "cell_type": "code",
   "execution_count": null,
   "metadata": {},
   "outputs": [],
   "source": [
    "#check the number of each category of \"furnishing status\"\n"
   ]
  },
  {
   "cell_type": "code",
   "execution_count": null,
   "metadata": {},
   "outputs": [],
   "source": [
    "#convert \"furnishingstatus\" into one-hot encoding (dummy variable)\n"
   ]
  },
  {
   "cell_type": "code",
   "execution_count": null,
   "metadata": {},
   "outputs": [],
   "source": [
    "df.head()"
   ]
  },
  {
   "cell_type": "code",
   "execution_count": null,
   "metadata": {},
   "outputs": [],
   "source": [
    "#looking at distribution of area\n"
   ]
  },
  {
   "cell_type": "code",
   "execution_count": null,
   "metadata": {},
   "outputs": [],
   "source": [
    "#looking at distribution of bedrooms\n"
   ]
  },
  {
   "cell_type": "markdown",
   "metadata": {},
   "source": [
    "# Correlation Matrix"
   ]
  },
  {
   "cell_type": "code",
   "execution_count": null,
   "metadata": {},
   "outputs": [],
   "source": [
    "#Compute correlation matrix here\n"
   ]
  },
  {
   "cell_type": "markdown",
   "metadata": {},
   "source": [
    "**plot ปัจจัยที่มีผลต่อ price ที่สุด จาก  correlation matrix**"
   ]
  },
  {
   "cell_type": "code",
   "execution_count": null,
   "metadata": {},
   "outputs": [],
   "source": []
  },
  {
   "cell_type": "markdown",
   "metadata": {},
   "source": [
    "## Splitting the dataset into the Training set and Test set"
   ]
  },
  {
   "cell_type": "code",
   "execution_count": null,
   "metadata": {},
   "outputs": [],
   "source": [
    "y = \n",
    "X = "
   ]
  },
  {
   "cell_type": "code",
   "execution_count": null,
   "metadata": {},
   "outputs": [],
   "source": [
    "# Split data into training and test sets (30% test set)\n",
    "X_train, X_test , y_train, y_test = "
   ]
  },
  {
   "cell_type": "markdown",
   "metadata": {},
   "source": [
    "## Scaling features"
   ]
  },
  {
   "cell_type": "code",
   "execution_count": null,
   "metadata": {},
   "outputs": [],
   "source": [
    "from sklearn.preprocessing import MinMaxScaler\n",
    "scaler = MinMaxScaler()\n",
    "#scaling the desired columns (it's ok for 1/0 because it's min/max scaling)\n",
    "X_train.loc[:,:]= scaler.fit_transform(X_train.loc[:,:])"
   ]
  },
  {
   "cell_type": "code",
   "execution_count": null,
   "metadata": {
    "scrolled": true
   },
   "outputs": [],
   "source": [
    "X_train.head()"
   ]
  },
  {
   "cell_type": "markdown",
   "metadata": {},
   "source": [
    "## Training the MLR, Ridge, Lasso model on the Training set"
   ]
  },
  {
   "cell_type": "code",
   "execution_count": null,
   "metadata": {},
   "outputs": [],
   "source": [
    "from sklearn.linear_model import LinearRegression\n",
    "from sklearn.linear_model import Ridge\n",
    "from sklearn.linear_model import Lasso\n",
    "\n",
    "# Multiple Regression Model\n",
    "MLR = LinearRegression()\n",
    "MLR.fit(X_train, y_train)\n",
    "\n",
    "# Ridge Regression Model\n",
    "ridge = Ridge()\n",
    "ridge.fit(X_train, y_train)\n",
    "\n",
    "# Lasso Regression Model\n",
    "lasso = Lasso()\n",
    "lasso.fit(X_train,y_train);"
   ]
  },
  {
   "cell_type": "markdown",
   "metadata": {},
   "source": [
    "## Model Results"
   ]
  },
  {
   "cell_type": "code",
   "execution_count": null,
   "metadata": {},
   "outputs": [],
   "source": [
    "#Transform X_test with the same transformation as X_train\n"
   ]
  },
  {
   "cell_type": "code",
   "execution_count": null,
   "metadata": {},
   "outputs": [],
   "source": [
    "#Note that score() gives us r2 score\n",
    "print(\"MLR Training Set Score:{:.2f}\".format(MLR.score(X_train, y_train)))\n",
    "print(\"MLR Test Set Score:{:.2f}\".format(MLR.score(X_test, y_test)))"
   ]
  },
  {
   "cell_type": "code",
   "execution_count": null,
   "metadata": {},
   "outputs": [],
   "source": [
    "#Ridge performs a little bit worse for training, but generalize a little better\n",
    "print(\"Ridge Training Set Score:{:.2f}\".format(ridge.score(X_train, y_train)))\n",
    "print(\"Ridge Test Set Score:{:.2f}\".format(ridge.score(X_test, y_test)))"
   ]
  },
  {
   "cell_type": "code",
   "execution_count": null,
   "metadata": {},
   "outputs": [],
   "source": [
    "#Lasso performs worse for training, but doesn't affect the test accuracy much \n",
    "print(\"Lasso Training Set Score:{:.2f}\".format(lasso.score(X_train, y_train)))\n",
    "print(\"Lasso Test Set Score:{:.2f}\".format(lasso.score(X_test, y_test)))\n",
    "\n",
    "#Note that out of 18 features, Lasso deemed almost all of them of them less relevant and forced them to 0\n",
    "print(\"Total number of features:{}\".format(X_train.shape[1]))\n",
    "print(\"Number of features used for Lasso:{}\".format(np.sum(lasso.coef_ !=0)))"
   ]
  },
  {
   "cell_type": "markdown",
   "metadata": {},
   "source": [
    "## Regularization"
   ]
  },
  {
   "cell_type": "markdown",
   "metadata": {},
   "source": [
    "Now we're studying the impact of regularization parameters (in sklearn it's called \"alpha\", not \"lambda\" like in the slides)"
   ]
  },
  {
   "cell_type": "code",
   "execution_count": null,
   "metadata": {},
   "outputs": [],
   "source": [
    "#Notice the regularization effects\n",
    "ridge100 = Ridge(alpha=100).fit(X_train, y_train)\n",
    "print(\"Ridge100 Training Set Score:{:.2f}\".format(ridge100.score(X_train, y_train)))\n",
    "print(\"Ridge100 Test Set Score:{:.2f}\".format(ridge100.score(X_test, y_test)))\n",
    "print()\n",
    "\n",
    "ridge10 = Ridge(alpha=10).fit(X_train, y_train)\n",
    "print(\"Ridge10 Training Set Score:{:.2f}\".format(ridge10.score(X_train, y_train)))\n",
    "print(\"Ridge10 Test Set Score:{:.2f}\".format(ridge10.score(X_test, y_test)))\n",
    "print()\n",
    "\n",
    "ridge1 = Ridge(alpha=1).fit(X_train, y_train)\n",
    "print(\"Ridge1 Training Set Score:{:.2f}\".format(ridge1.score(X_train, y_train)))\n",
    "print(\"Ridge1 Test Set Score:{:.2f}\".format(ridge1.score(X_test, y_test)))\n",
    "print()\n",
    "\n",
    "ridge01 = Ridge(alpha=0.1).fit(X_train, y_train)\n",
    "print(\"Ridge01 Training Set Score:{:.2f}\".format(ridge01.score(X_train, y_train)))\n",
    "print(\"Ridge01 Test Set Score:{:.2f}\".format(ridge01.score(X_test, y_test)))\n",
    "print()\n",
    "\n",
    "ridge00001 = Ridge(alpha=0.0001).fit(X_train, y_train)\n",
    "print(\"Ridge00001 Training Set Score:{:.2f}\".format(ridge00001.score(X_train, y_train)))\n",
    "print(\"Ridge00001 Test Set Score:{:.2f}\".format(ridge00001.score(X_test, y_test)))"
   ]
  },
  {
   "cell_type": "code",
   "execution_count": null,
   "metadata": {},
   "outputs": [],
   "source": [
    "#Lasso\n",
    "lasso1 = Lasso(alpha=1).fit(X_train,y_train);\n",
    "print(\"lasso01 Training Set Score:{:.2f}\".format(lasso1.score(X_train, y_train)))\n",
    "print(\"lasso01 Test Set Score:{:.2f}\".format(lasso1.score(X_test, y_test)))\n",
    "print(\"Number of features used in lasso1:{}\".format(np.sum(lasso1.coef_ !=0)))\n",
    "print()\n",
    "\n",
    "lasso01 = Lasso(alpha=0.1).fit(X_train,y_train)\n",
    "print(\"lasso01 Training Set Score:{:.2f}\".format(lasso01.score(X_train, y_train)))\n",
    "print(\"lasso01 Test Set Score:{:.2f}\".format(lasso01.score(X_test, y_test)))\n",
    "print(\"Number of features used in lasso01:{}\".format(np.sum(lasso01.coef_ !=0)))\n",
    "print()\n",
    "\n",
    "lasso001 = Lasso(alpha=0.01).fit(X_train,y_train)\n",
    "print(\"lasso001 Training Set Score:{:.2f}\".format(lasso001.score(X_train, y_train)))\n",
    "print(\"lasso001 Test Set Score:{:.2f}\".format(lasso001.score(X_test, y_test)))\n",
    "print(\"Number of features used in lasso001:{}\".format(np.sum(lasso001.coef_ !=0)))\n",
    "print()\n",
    "\n",
    "lasso00001 = Lasso(alpha=0.000001).fit(X_train,y_train)\n",
    "print(\"lasso00001 Training Set Score:{:.2f}\".format(lasso00001.score(X_train, y_train)))\n",
    "print(\"lasso00001 Test Set Score:{:.2f}\".format(lasso00001.score(X_test, y_test)))\n",
    "print(\"Number of features used in lasso00001:{}\".format(np.sum(lasso00001.coef_ !=0)))"
   ]
  },
  {
   "cell_type": "markdown",
   "metadata": {},
   "source": [
    "## Inspecting coefficients"
   ]
  },
  {
   "cell_type": "code",
   "execution_count": null,
   "metadata": {},
   "outputs": [],
   "source": [
    "#MLR\n",
    "MLR_coeff_df = pd.DataFrame(MLR.coef_,X.columns,columns=['Coefficient'])\n",
    "MLR_coeff_df"
   ]
  },
  {
   "cell_type": "code",
   "execution_count": null,
   "metadata": {},
   "outputs": [],
   "source": [
    "#Ridge \n",
    "#Exercise: Try changing to observe coefficient of Ridge at different regularization value\n",
    "Ridge_coeff_df = pd.DataFrame(ridge1.coef_,X.columns,columns=['Coefficient'])\n",
    "Ridge_coeff_df"
   ]
  },
  {
   "cell_type": "code",
   "execution_count": null,
   "metadata": {},
   "outputs": [],
   "source": [
    "#Lasso\n",
    "#Exercise: Try changing to observe coefficient of Lasso at different regularization value\n",
    "Lasso_coeff_df = pd.DataFrame(lasso01.coef_,X.columns,columns=['Coefficient'])\n",
    "Lasso_coeff_df"
   ]
  },
  {
   "cell_type": "code",
   "execution_count": null,
   "metadata": {},
   "outputs": [],
   "source": []
  },
  {
   "cell_type": "code",
   "execution_count": null,
   "metadata": {},
   "outputs": [],
   "source": []
  }
 ],
 "metadata": {
  "kernelspec": {
   "display_name": "Python 3",
   "language": "python",
   "name": "python3"
  },
  "language_info": {
   "codemirror_mode": {
    "name": "ipython",
    "version": 3
   },
   "file_extension": ".py",
   "mimetype": "text/x-python",
   "name": "python",
   "nbconvert_exporter": "python",
   "pygments_lexer": "ipython3",
   "version": "3.7.1"
  }
 },
 "nbformat": 4,
 "nbformat_minor": 4
}

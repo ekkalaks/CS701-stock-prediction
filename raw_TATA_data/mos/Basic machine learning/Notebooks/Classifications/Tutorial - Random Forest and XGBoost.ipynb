{
 "cells": [
  {
   "cell_type": "markdown",
   "metadata": {
    "colab_type": "text",
    "id": "63_fh9aLej5U"
   },
   "source": [
    "## Tutorial: Random Forest and XGBoost"
   ]
  },
  {
   "cell_type": "markdown",
   "metadata": {
    "colab_type": "text",
    "id": "hyrIaPPgeqFb"
   },
   "source": [
    "#### 1 นำเข้าข้อมูล"
   ]
  },
  {
   "cell_type": "code",
   "execution_count": null,
   "metadata": {
    "colab": {},
    "colab_type": "code",
    "id": "xmYXfHgBefxX"
   },
   "outputs": [],
   "source": [
    "# โหลดข้อมูล Churn จาก GitHub\n",
    "import pandas as pd\n",
    "df = pd.read_csv('https://raw.githubusercontent.com/IBM/telco-customer-churn-on-icp4d/master/data/Telco-Customer-Churn.csv') # error_bad_lines=False"
   ]
  },
  {
   "cell_type": "markdown",
   "metadata": {
    "colab_type": "text",
    "id": "yLoznO4D-hd6"
   },
   "source": [
    "เป้าหมายคือการทำนายค่าในคอลัมน์ `Churn`"
   ]
  },
  {
   "cell_type": "markdown",
   "metadata": {
    "colab_type": "text",
    "id": "d1NUnlNPezxF"
   },
   "source": [
    "#### 2 สำรวจข้อมูล"
   ]
  },
  {
   "cell_type": "code",
   "execution_count": null,
   "metadata": {
    "colab": {
     "base_uri": "https://localhost:8080/",
     "height": 309
    },
    "colab_type": "code",
    "id": "F69Es_FzloBD",
    "outputId": "a8e5bc1e-1703-414d-ec3e-ebed140b3d77"
   },
   "outputs": [],
   "source": [
    "# ดูข้อมูล 5 แถวแรก\n",
    "df.head()"
   ]
  },
  {
   "cell_type": "code",
   "execution_count": null,
   "metadata": {
    "colab": {
     "base_uri": "https://localhost:8080/",
     "height": 309
    },
    "colab_type": "code",
    "id": "as3Vjf_yzXGj",
    "outputId": "7a983f80-18ae-43d2-e48c-b4b2bfa87e86"
   },
   "outputs": [],
   "source": [
    "# ดูข้อมูล 5 แถวสุดท้าย\n",
    "df.tail()"
   ]
  },
  {
   "cell_type": "code",
   "execution_count": null,
   "metadata": {
    "colab": {
     "base_uri": "https://localhost:8080/",
     "height": 503
    },
    "colab_type": "code",
    "id": "EZprAeIIq9Nr",
    "outputId": "b4ad7d74-8a1e-4687-837a-dd01b3a4631a"
   },
   "outputs": [],
   "source": [
    "# ตรวจสอบการมี missing values ในแต่ละคอลัมน์\n",
    "df.info()"
   ]
  },
  {
   "cell_type": "markdown",
   "metadata": {
    "colab_type": "text",
    "id": "Xy0mYKTW5pgd"
   },
   "source": [
    "สังเกตว่าข้อมูลประกอบด้วย 2 รูปแบบ คือ กลุ่มข้อมูลที่เป็นตัวเลข (`int64` และ `float64`) และ กลุ่มข้อมูลที่เป็นนตัวอักษร (`object`) "
   ]
  },
  {
   "cell_type": "markdown",
   "metadata": {
    "colab_type": "text",
    "id": "WSk760xpBbwN"
   },
   "source": [
    "ดูค่าสถิติเบื้องต้นของคอลัมน์ที่เป็นตัวเลข (numerical columns)"
   ]
  },
  {
   "cell_type": "code",
   "execution_count": null,
   "metadata": {
    "colab": {
     "base_uri": "https://localhost:8080/",
     "height": 294
    },
    "colab_type": "code",
    "id": "NKXDt1p0wI0g",
    "outputId": "b7448c98-3a22-4a45-e5a5-3797ea36c83f"
   },
   "outputs": [],
   "source": [
    "df.describe()"
   ]
  },
  {
   "cell_type": "markdown",
   "metadata": {
    "colab_type": "text",
    "id": "XBKx8acG8p4n"
   },
   "source": [
    "สังเกตว่าการกระจายตัวของ `SeniorCitizen` มีลักษณะแปลก ๆ เนื่องจากค่า `min`, `25%`, `50%`, `75%` และ `max` มีค่าอยู่แค่ `0` และ `1` เท่านั้น ซึ่งลักษณะโดยทั่วไปของคอลัมน์ที่เป็นตัวเลขควรมีการกระจายตัวที่มากกว่านี้ หรือก็คือควรมีค่าที่หลากหลายกว่าเพียงแค่ 0 และ 1 จึงสรุปได้ว่าคอลัมน์นี้เป็นคอลัมน์ที่บอกว่าข้อมูลในแถวนั้นมาจากผู้สูงอายุหรือไม่ (อาจมองว่าเป็นเหมือนสิ่งที่ได้จาก one-hot encoding)"
   ]
  },
  {
   "cell_type": "code",
   "execution_count": null,
   "metadata": {
    "colab": {
     "base_uri": "https://localhost:8080/",
     "height": 72
    },
    "colab_type": "code",
    "id": "2QHWvTJx6Enh",
    "outputId": "81b90259-6aa7-42ef-deb5-6aa6aadb8b9d"
   },
   "outputs": [],
   "source": [
    "# โหลด packages ที่ใช้ในการสร้างกราฟ\n",
    "import matplotlib.pyplot as plt\n",
    "import seaborn as sns"
   ]
  },
  {
   "cell_type": "markdown",
   "metadata": {
    "colab_type": "text",
    "id": "1EWR-Buc6Rih"
   },
   "source": [
    "ดูการกระจายตัวของข้อมูลของ `tenure`"
   ]
  },
  {
   "cell_type": "code",
   "execution_count": null,
   "metadata": {
    "colab": {
     "base_uri": "https://localhost:8080/",
     "height": 297
    },
    "colab_type": "code",
    "id": "CCxVYg9n7ZAJ",
    "outputId": "18f60477-8a9d-451f-9cd9-19663039bb71"
   },
   "outputs": [],
   "source": [
    "sns.distplot(df['tenure'])"
   ]
  },
  {
   "cell_type": "markdown",
   "metadata": {
    "colab_type": "text",
    "id": "DXDUWVr8_CQ3"
   },
   "source": [
    "ดูการกระจายตัวของข้อมูลของ `MonthlyCharges`"
   ]
  },
  {
   "cell_type": "code",
   "execution_count": null,
   "metadata": {
    "colab": {
     "base_uri": "https://localhost:8080/",
     "height": 297
    },
    "colab_type": "code",
    "id": "vBs27kTg8CDn",
    "outputId": "75930484-742f-4470-b143-60a90b139b09"
   },
   "outputs": [],
   "source": [
    "sns.distplot(df['MonthlyCharges'])"
   ]
  },
  {
   "cell_type": "markdown",
   "metadata": {
    "colab_type": "text",
    "id": "gApGW-_1ATGX"
   },
   "source": [
    "การกระจายตัวของทั้งสองคอลัมน์ค่อนข้างโอเคแล้ว"
   ]
  },
  {
   "cell_type": "markdown",
   "metadata": {
    "colab_type": "text",
    "id": "VWopKjBCBgJ4"
   },
   "source": [
    "ดูค่าสถิติเบื้องต้นของคอลัมน์ที่เป็นตัวอักษร (categorical columns)"
   ]
  },
  {
   "cell_type": "code",
   "execution_count": null,
   "metadata": {
    "colab": {
     "base_uri": "https://localhost:8080/",
     "height": 209
    },
    "colab_type": "code",
    "id": "FIgD-_p7qUx0",
    "outputId": "cfd0393d-d50d-414a-fe46-f89750d67743"
   },
   "outputs": [],
   "source": [
    "df.describe(include='object')"
   ]
  },
  {
   "cell_type": "markdown",
   "metadata": {
    "colab_type": "text",
    "id": "FiXEyYb3tXl8"
   },
   "source": [
    "มีอะไรบางอย่างเกิดขึ้นในคอลัมน์ `TotalCharges` เพราะว่า unique values มีถึง 6531 ค่า (จากทั้งหมด 7043 ค่า) แต่สำหรับ `customerID` ที่ถึงแม้ว่าจะมี unique values เยอะเช่นกัน แต่ค่าในคอลัมน์นี้จะสื่อถึงความแตกต่างของข้อมูลในแต่ละแถว"
   ]
  },
  {
   "cell_type": "code",
   "execution_count": null,
   "metadata": {
    "colab": {
     "base_uri": "https://localhost:8080/",
     "height": 35
    },
    "colab_type": "code",
    "id": "bw7e7Dt-LXu0",
    "outputId": "20e53393-2dbf-4fc6-b98b-fd63983e691c"
   },
   "outputs": [],
   "source": [
    "# ใช้คอลัมน์ `customerID` เพื่อตรวจสอบการมีข้อมูลซ้ำ\n",
    "# ถ้าคำสั่งนี้ให้ค่าเป็น True แสดงว่ามีข้อมูลที่ซ้ำกันอยู่ แต่ถ้า False แสดงว่าไม่มีข้อมูลซ้ำ\n",
    "df['customerID'].duplicated().any()"
   ]
  },
  {
   "cell_type": "code",
   "execution_count": null,
   "metadata": {
    "colab": {
     "base_uri": "https://localhost:8080/",
     "height": 225
    },
    "colab_type": "code",
    "id": "ecRxHL7eyS57",
    "outputId": "b03fb371-c487-49e3-e1dc-aedbcec1cc3f"
   },
   "outputs": [],
   "source": [
    "# ดูค่าในคอลัมน์ `TotalCharges`\n",
    "df['TotalCharges']"
   ]
  },
  {
   "cell_type": "markdown",
   "metadata": {
    "colab_type": "text",
    "id": "6n3AujCB1j21"
   },
   "source": [
    "ดูจากค่าในคอลัมน์ที่มีแต่ตัวเลขแล้ว คอลัมน์นี้ควรเป็น `float`"
   ]
  },
  {
   "cell_type": "code",
   "execution_count": null,
   "metadata": {
    "colab": {
     "base_uri": "https://localhost:8080/",
     "height": 329
    },
    "colab_type": "code",
    "id": "ttDusfjXsgPl",
    "outputId": "e312f5d7-6945-42a1-ff86-224947d15e81"
   },
   "outputs": [],
   "source": [
    "# แปลงชนิดข้อมูลของคอลัมน์นี้ไปเป็นทศนิยม (float)\n",
    "df['TotalCharges'].astype(float)"
   ]
  },
  {
   "cell_type": "markdown",
   "metadata": {
    "colab_type": "text",
    "id": "L-6yeF8Muvyw"
   },
   "source": [
    "เมื่อทำการแปลงชนิดข้อมูลไปเป็น `float` แล้ว ไม่สามารถแปลงชนิดข้อมูลได้ เนื่องจากในคอลัมน์นี้มีตัวอักษรอยู่ด้วย ซึ่งโดยทั่วไปแล้ว ความผิดพลาดแบบนี้มักเกิดขึ้นจากการที่คอลัมน์นี้มีข้อมูลที่เป็นช่องว่างอยู่"
   ]
  },
  {
   "cell_type": "code",
   "execution_count": null,
   "metadata": {
    "colab": {},
    "colab_type": "code",
    "id": "o4c5q9TN0jYE"
   },
   "outputs": [],
   "source": [
    "# แปลงช่องว่างให้เป็น missing values\n",
    "import numpy as np\n",
    "df['TotalCharges'].replace(' ', np.nan, inplace=True)"
   ]
  },
  {
   "cell_type": "code",
   "execution_count": null,
   "metadata": {
    "colab": {},
    "colab_type": "code",
    "id": "z-eQih3k2iYg"
   },
   "outputs": [],
   "source": [
    "# ตัดข้อมูลที่เป็น missing values\n",
    "df = df[~pd.isnull(df['TotalCharges'])] # ถ้าหากมีปัญหาในการพิมพ์ tilde อาจใช้คำสั่ง df = df[df['TotalCharges'].notnull()]\n",
    "\n",
    "# ปรับ index ของข้อมูลหลังจากการตัดข้อมูล\n",
    "df.reset_index(drop=True, inplace=True)"
   ]
  },
  {
   "cell_type": "code",
   "execution_count": null,
   "metadata": {
    "colab": {},
    "colab_type": "code",
    "id": "yJ8dBEdYu_fo"
   },
   "outputs": [],
   "source": [
    "# แปลงข้อมูลในคอลัมน์ TotalCharges ให้เป็น float\n",
    "df['TotalCharges'] = df['TotalCharges'].astype(float)"
   ]
  },
  {
   "cell_type": "markdown",
   "metadata": {
    "colab_type": "text",
    "id": "jwtRJDae3opI"
   },
   "source": [
    "พิจารณาค่าในคอลัมน์ที่เหลือ"
   ]
  },
  {
   "cell_type": "code",
   "execution_count": null,
   "metadata": {
    "colab": {
     "base_uri": "https://localhost:8080/",
     "height": 1000
    },
    "colab_type": "code",
    "id": "UGZpDMI13oMt",
    "outputId": "64b32a03-9068-4057-8e23-75bb27ee08b1"
   },
   "outputs": [],
   "source": [
    "# สร้าง list ไว้เก็บชื่อคอลัมน์ เพื่อใช้งานตอนหลัง\n",
    "cat_col = []\n",
    "\n",
    "# สร้างลูปรันสำหรับทุกคอลัมน์ใน df\n",
    "for col in df.columns:\n",
    "  # เนื่องจากดูไปแล้ว 5 คอลัมน์ จะดูคอลัมน์ที่เหลือ\n",
    "  if col not in ['customerID', 'SeniorCitizen', 'tenure', 'MonthlyCharges', 'TotalCharges']:  \n",
    "    cat_col.append(col)\n",
    "    print(col)\n",
    "    print(df[col].value_counts())\n",
    "    print('\\n\\n\\n')"
   ]
  },
  {
   "cell_type": "markdown",
   "metadata": {
    "colab_type": "text",
    "id": "WqYtLrOf8EfR"
   },
   "source": [
    "สังเกตว่าค่าในคอลัมน์ `OnlineSecurity`, `OnlineBackup`, `DeviceProtection`, `TechSupport`, `StreamingTV` และ `StreamingMovies` จะมี 3 กลุ่ม ได้แก่ `Yes`, `No` และ `No internet service` ซึ่ง `No` และ `No internet service` อาจเข้าใจว่าเป็นกลุ่มเดียวกันก็ได้"
   ]
  },
  {
   "cell_type": "code",
   "execution_count": null,
   "metadata": {
    "colab": {},
    "colab_type": "code",
    "id": "mrkoQlf789bL"
   },
   "outputs": [],
   "source": [
    "col_to_replace = ['OnlineSecurity', 'OnlineBackup', 'DeviceProtection', 'TechSupport', 'StreamingTV', 'StreamingMovies']\n",
    "df[col_to_replace] = df[col_to_replace].replace('No internet service', 'No')"
   ]
  },
  {
   "cell_type": "markdown",
   "metadata": {
    "colab_type": "text",
    "id": "NZKugBLTFfKR"
   },
   "source": [
    "แปลงค่าในคอลัมน์ `Contract` โดยการใช้ ordinal encoding"
   ]
  },
  {
   "cell_type": "code",
   "execution_count": null,
   "metadata": {
    "colab": {},
    "colab_type": "code",
    "id": "gRYyxjuSH50m"
   },
   "outputs": [],
   "source": [
    "# สร้าง dictionary สำหรับแปลงค่า โดยให้ค่าเดิมเป็น key และค่าใหม่เป็น value\n",
    "replace_dict = {'Month-to-month': 0, 'One year': 1, 'Two year': 2}\n",
    "df.replace({'Contract': replace_dict}, inplace=True)"
   ]
  },
  {
   "cell_type": "markdown",
   "metadata": {
    "colab_type": "text",
    "id": "fvTx0GKPISgE"
   },
   "source": [
    "แปลงค่าในคอลัมน์ `Churn` โดย `Yes` ให้เป็น `1` และ `No` ให้เป็น `0`"
   ]
  },
  {
   "cell_type": "code",
   "execution_count": null,
   "metadata": {
    "colab": {},
    "colab_type": "code",
    "id": "1cH5teOaIatc"
   },
   "outputs": [],
   "source": [
    "df.replace({'Churn': {'Yes': 1, 'No': 0}}, inplace=True)"
   ]
  },
  {
   "cell_type": "markdown",
   "metadata": {
    "colab_type": "text",
    "id": "3rjptBeZFmQv"
   },
   "source": [
    "แปลงค่าใน categorical columns อื่น ๆ โดยการใช้ one-hot encoding"
   ]
  },
  {
   "cell_type": "code",
   "execution_count": null,
   "metadata": {
    "colab": {},
    "colab_type": "code",
    "id": "z6NoMcyv_UCL"
   },
   "outputs": [],
   "source": [
    "# ใช้ drop_first=True เพื่อให้ตัดกลุ่ม 1 กลุ่มออกไปจากคอลัมน์ \n",
    "# เนื่องจากว่าหากทราบว่าข้อมูลในคอลัมน์นี้ประกอบด้วย 3 กลุ่ม \n",
    "# และข้อมูลที่สนใจไม่อยู่ใน 2 กลุ่มแล้ว สามารถสรุปได้ว่าข้อมูลดังกล่าวต้องอยู่อีกกลุ่มหนึ่งอย่างแน่นอน\n",
    "df = pd.get_dummies(df.drop('customerID', axis=1), drop_first=True)"
   ]
  },
  {
   "cell_type": "markdown",
   "metadata": {
    "colab_type": "text",
    "id": "WY13NwPNRFui"
   },
   "source": [
    "#### 3 เตรียมความพร้อมข้อมูล"
   ]
  },
  {
   "cell_type": "markdown",
   "metadata": {
    "colab_type": "text",
    "id": "Xrdpjnx0Izqb"
   },
   "source": [
    "แบ่งข้อมูลออกเป็น 2 ส่วน ได้แก่ ส่วนที่สร้างโมเดล (training set) และส่วนที่ทดสอบโมเดล (test set) ด้วยอัตราส่วน 7:3"
   ]
  },
  {
   "cell_type": "code",
   "execution_count": null,
   "metadata": {
    "colab": {},
    "colab_type": "code",
    "id": "Na56K4ZpL2C7"
   },
   "outputs": [],
   "source": [
    "from sklearn.model_selection import train_test_split\n",
    "\n",
    "X_train, X_test, y_train, y_test = train_test_split(df.drop('Churn', axis=1), df['Churn'], test_size=0.3, random_state=2020)"
   ]
  },
  {
   "cell_type": "markdown",
   "metadata": {
    "colab_type": "text",
    "id": "MN4J59iZPaDq"
   },
   "source": [
    "ปรับค่า numerical columns ให้มีค่าอยู่ในช่วงตั้งแต่ 0 ถึง 1"
   ]
  },
  {
   "cell_type": "code",
   "execution_count": null,
   "metadata": {
    "colab": {},
    "colab_type": "code",
    "id": "CLLGp9apPZNu"
   },
   "outputs": [],
   "source": [
    "from sklearn.preprocessing import MinMaxScaler\n",
    "\n",
    "# กำหนดตัวแปลงค่า ซึ่งจะแปลงให้ค่าข้อมูลไปอยู่ในช่วงตั้งแต่ 0 ถึง 1\n",
    "scaler = MinMaxScaler()\n",
    "\n",
    "# ต้องการปรับค่าเฉพาะ numerical columns เท่านั้น นั่นคือ tenure และ MonthlyCharges\n",
    "# โดยให้ปรับค่าจาก training data และใช้ตัวแปลงค่าเดิมไปปรับค่าใน test data\n",
    "# ทำให้ต้องใช้คำสั่ง fit_transform สำหรับ X_train และใช้คำสั่ง transform สำหรับ X_test\n",
    "X_train.loc[:, ['tenure', 'MonthlyCharges']] = scaler.fit_transform(X_train.loc[:, ['tenure', 'MonthlyCharges']])\n",
    "X_test.loc[:, ['tenure', 'MonthlyCharges']] = scaler.transform(X_test.loc[:, ['tenure', 'MonthlyCharges']])"
   ]
  },
  {
   "cell_type": "markdown",
   "metadata": {
    "colab_type": "text",
    "id": "-oaAyR-QfBvH"
   },
   "source": [
    "#### 4 นำข้อมูลเข้าโมเดล"
   ]
  },
  {
   "cell_type": "code",
   "execution_count": null,
   "metadata": {
    "colab": {},
    "colab_type": "code",
    "id": "UzMRHwEwUU9B"
   },
   "outputs": [],
   "source": [
    "# ในตัวอย่างนี้จะพิจารณา 4 โมเดล\n",
    "classifiers = {}"
   ]
  },
  {
   "cell_type": "markdown",
   "metadata": {
    "colab_type": "text",
    "id": "X4EZZ0-qToNG"
   },
   "source": [
    "โมเดลที่ 1 [Logistic regression](https://scikit-learn.org/stable/modules/generated/sklearn.linear_model.LogisticRegression.html)"
   ]
  },
  {
   "cell_type": "code",
   "execution_count": null,
   "metadata": {
    "colab": {},
    "colab_type": "code",
    "id": "VllbjB-QTwph"
   },
   "outputs": [],
   "source": [
    "from sklearn.linear_model import LogisticRegression\n",
    "\n",
    "classifiers['lr'] = LogisticRegression()"
   ]
  },
  {
   "cell_type": "markdown",
   "metadata": {
    "colab_type": "text",
    "id": "yvWP6KGxMfQr"
   },
   "source": [
    "โมเดลที่ 2 [Decision tree](https://scikit-learn.org/stable/modules/generated/sklearn.tree.DecisionTreeClassifier.html)"
   ]
  },
  {
   "cell_type": "code",
   "execution_count": null,
   "metadata": {
    "colab": {},
    "colab_type": "code",
    "id": "_MpnQ6hHMbZE"
   },
   "outputs": [],
   "source": [
    "from sklearn.tree import DecisionTreeClassifier\n",
    "\n",
    "classifiers['dt'] = DecisionTreeClassifier()"
   ]
  },
  {
   "cell_type": "markdown",
   "metadata": {
    "colab_type": "text",
    "id": "bCdLwXXQROBU"
   },
   "source": [
    "โมเดลที่ 3 [Random forest](https://scikit-learn.org/stable/modules/generated/sklearn.ensemble.RandomForestClassifier.html)"
   ]
  },
  {
   "cell_type": "code",
   "execution_count": null,
   "metadata": {
    "colab": {},
    "colab_type": "code",
    "id": "frwwAK9HSfzh"
   },
   "outputs": [],
   "source": [
    "from sklearn.ensemble import RandomForestClassifier\n",
    "\n",
    "classifiers['rf'] = RandomForestClassifier()"
   ]
  },
  {
   "cell_type": "markdown",
   "metadata": {
    "colab_type": "text",
    "id": "80B3hG3lRSSC"
   },
   "source": [
    "โมเดลที่ 4 [XGBoost](https://xgboost.readthedocs.io/en/latest/)"
   ]
  },
  {
   "cell_type": "code",
   "execution_count": null,
   "metadata": {
    "colab": {},
    "colab_type": "code",
    "id": "hAFTD1Q6S1kN"
   },
   "outputs": [],
   "source": [
    "import xgboost as xgb\n",
    "\n",
    "classifiers['xg'] = xgb.XGBClassifier()"
   ]
  },
  {
   "cell_type": "markdown",
   "metadata": {
    "colab_type": "text",
    "id": "Jrltn-nQVU5_"
   },
   "source": [
    "เทรนโมเดล"
   ]
  },
  {
   "cell_type": "code",
   "execution_count": null,
   "metadata": {},
   "outputs": [],
   "source": [
    "from sklearn.metrics import roc_curve, auc, precision_recall_curve\n",
    "def prec_recall_ROC_plot(clf,X_test):\n",
    "  '''\n",
    "  clf คือ โมเดลที่ใช้\n",
    "  ฟังก์ชันนี้จะแสดงค่าพล็อตกราฟของ precision และ recall ที่ threshold ต่าง ๆ และ ROC\n",
    "  '''\n",
    "  # ทำนายค่าของ test data\n",
    "  y_score = clf.predict_proba(X_test)\n",
    "\n",
    "  # คำนวณค่า average precision\n",
    "  print('avg. precision: %.2f' % average_precision_score(y_test, y_score[:, 1]))\n",
    "  \n",
    "  # คำนวณค่า precision, recall (true positive rate, TPR) และ false positive rate (FPR) ที่ threshold ต่าง ๆ\n",
    "  precision, recall, threshold = precision_recall_curve(y_test, y_score[:, 1])\n",
    "  fpr, tpr, _ = roc_curve(y_test, y_score[:, 1])\n",
    "  roc_auc = auc(fpr, tpr)\n",
    "\n",
    "  # พล็อตกราฟ\n",
    "  plt.figure(figsize=(18, 4))\n",
    "\n",
    "  # precision and recall\n",
    "  plt.subplot(131)\n",
    "  plt.plot(threshold, precision[:-1], color='darkorange', lw=2, label='precision')\n",
    "  plt.plot(threshold, recall[:-1], color='navy', lw=2, label='recall')\n",
    "  plt.xlim([-0.05, 1.05])\n",
    "  plt.ylim([-0.05, 1.05])\n",
    "  plt.xlabel('Threshold')\n",
    "  plt.title('Precision and recall vs threshold')\n",
    "  plt.legend(loc='lower left')\n",
    "    \n",
    "  # ROC\n",
    "  plt.subplot(132)\n",
    "  plt.plot(fpr, tpr, color='black', lw=2, label='ROC curve (area = %0.2f)' % roc_auc)\n",
    "  plt.plot([0, 1], [0, 1], color='red', lw=2, linestyle='--')\n",
    "  plt.xlim([-0.05, 1.05])\n",
    "  plt.ylim([-0.05, 1.05])\n",
    "  plt.xlabel('False Positive Rate')\n",
    "  plt.ylabel('True Positive Rate')\n",
    "  plt.title('Receiver operating characteristic (ROC)')\n",
    "  plt.legend(loc='lower right')\n",
    "  plt.show()"
   ]
  },
  {
   "cell_type": "code",
   "execution_count": null,
   "metadata": {
    "colab": {
     "base_uri": "https://localhost:8080/",
     "height": 1000
    },
    "colab_type": "code",
    "id": "HfCvNldFVo0X",
    "outputId": "79cb6c8f-c27f-409a-ecad-5a0631a1ddd6"
   },
   "outputs": [],
   "source": [
    "from sklearn.metrics import accuracy_score,average_precision_score\n",
    "# สร้าง dictionary สำหรับอธิบายตัวย่อของแต่ละโมเดล\n",
    "model_description = {'lr': 'Logistic regression', 'dt': 'Decision tree', 'rf': 'Random forest', 'xg': 'XGBoost'}\n",
    "\n",
    "# สร้าง loop สำหรับการเทรนและทดสอบโมเดล\n",
    "for model_name in model_description.keys():\n",
    "    model = classifiers[model_name]\n",
    "    #Train the model\n",
    "    model.fit(X_train,y_train)\n",
    "    y_pred = model.predict(X_test)\n",
    "    print(model_description[model_name])\n",
    "    print(\"accuray score: %.2f\"%accuracy_score(y_test,y_pred))\n",
    "    prec_recall_ROC_plot(model,X_test)\n",
    "    print('\\n\\n\\n') #print new lines"
   ]
  },
  {
   "cell_type": "markdown",
   "metadata": {
    "colab_type": "text",
    "id": "gamGONJCfGN6"
   },
   "source": [
    "#### 5 ปรับแต่งโมเดล"
   ]
  },
  {
   "cell_type": "markdown",
   "metadata": {
    "colab_type": "text",
    "id": "wcTBBiOq9_fp"
   },
   "source": [
    "เนื่องจากตอนสร้างโมเดล `classifiers`นั้นเป็นการใช้ default settings ของแต่ละโมเดล ซึ่งในทางปฏิบัติสามารถปรับค่าของ parameter ต่าง ๆ ได้เพื่อให้มีความเหมาะสมกับข้อมูลมากยิ่งขึ้น"
   ]
  },
  {
   "cell_type": "markdown",
   "metadata": {},
   "source": [
    "สังเกตว่าจากค่า default นั้น model ที่เป็น decision tree ทำงานได้ไม่ดี เราจึงลอง visualize ดู"
   ]
  },
  {
   "cell_type": "code",
   "execution_count": null,
   "metadata": {},
   "outputs": [],
   "source": [
    "import graphviz\n",
    "from sklearn import tree\n",
    "dot_data = tree.export_graphviz(classifiers[\"dt\"], out_file=None, \n",
    "                              feature_names=X_train.columns,\n",
    "                              class_names=['0','1'],\n",
    "                              filled=True, rounded=True,\n",
    "                              special_characters=True, rotate=True)\n",
    "graph = graphviz.Source(dot_data)\n",
    "graph.render('dtree_render',view=True)"
   ]
  },
  {
   "cell_type": "markdown",
   "metadata": {},
   "source": [
    "ค่อนข้างมีความเป็นไปได้สูงว่าจะ overfit เช็ค precision ของ training set ดู"
   ]
  },
  {
   "cell_type": "code",
   "execution_count": null,
   "metadata": {},
   "outputs": [],
   "source": [
    "dt_score_train = classifiers[\"dt\"].predict_proba(X_train)\n",
    "# คำนวณค่า average precision\n",
    "print('avg. precision: %.2f' % average_precision_score(y_train, dt_score_train[:, 1]))\n",
    "# check accuracy score\n",
    "print(\"accuray score: %.2f\"%accuracy_score(y_train, classifiers[\"dt\"].predict(X_train)))"
   ]
  },
  {
   "cell_type": "markdown",
   "metadata": {},
   "source": [
    "Overfit! ถ้าเจอสถานการณ์แบบนี้เราจะอยากที่จะปรับ parameter ให้ มี regularization effect มากขึ้น เช่นลด max_depth ของ Tree ลง"
   ]
  },
  {
   "cell_type": "markdown",
   "metadata": {},
   "source": [
    "ถ้าจะ tune จริงๆต้องแบ่งเป็น 3 dataset ในกรณีนี้จะแบ่ง training ย่อยลงไปใช้เป็นสำหรับ train/validate"
   ]
  },
  {
   "cell_type": "code",
   "execution_count": null,
   "metadata": {},
   "outputs": [],
   "source": [
    "X_t, X_v, y_t, y_v = train_test_split(X_train, y_train, test_size=0.2, random_state=2020)"
   ]
  },
  {
   "cell_type": "code",
   "execution_count": null,
   "metadata": {},
   "outputs": [],
   "source": [
    "dt_experiment = DecisionTreeClassifier(random_state=2020)\n",
    "dt_experiment.fit(X_t,y_t)"
   ]
  },
  {
   "cell_type": "code",
   "execution_count": null,
   "metadata": {},
   "outputs": [],
   "source": [
    "y_pred_experiment = dt_experiment.predict(X_v)"
   ]
  },
  {
   "cell_type": "code",
   "execution_count": null,
   "metadata": {},
   "outputs": [],
   "source": [
    "#Baseline\n",
    "dt_score_v=dt_experiment.predict_proba(X_v)\n",
    "print('avg. precision: %.2f' % average_precision_score(y_v, dt_score_v[:, 1]))\n",
    "print(\"accuray score: %.2f\"%accuracy_score(y_v,y_pred_experiment))"
   ]
  },
  {
   "cell_type": "markdown",
   "metadata": {},
   "source": [
    "ปรับค่าจนคิดว่าได้อันที่ดีที่สุดแล้ว (ลองหลายๆค่า)"
   ]
  },
  {
   "cell_type": "code",
   "execution_count": null,
   "metadata": {},
   "outputs": [],
   "source": [
    "dt_experiment = DecisionTreeClassifier(max_depth=7 ,random_state=2020)\n",
    "dt_experiment.fit(X_t,y_t)\n",
    "y_pred_experiment = dt_experiment.predict(X_v)\n",
    "dt_score_v=dt_experiment.predict_proba(X_v)\n",
    "print('avg. precision: %.2f' % average_precision_score(y_v, dt_score_v[:, 1]))\n",
    "print(\"accuray score: %.2f\"%accuracy_score(y_v,y_pred_experiment))"
   ]
  },
  {
   "cell_type": "markdown",
   "metadata": {},
   "source": [
    "เอาไปประเมินครั้งสุดท้ายกับ test set"
   ]
  },
  {
   "cell_type": "code",
   "execution_count": null,
   "metadata": {},
   "outputs": [],
   "source": [
    "#retrain again with the setting found\n",
    "dt_experiment = DecisionTreeClassifier(max_depth=7 ,random_state=2020)\n",
    "dt_experiment.fit(X_train,y_train)\n",
    "y_pred_experiment = dt_experiment.predict(X_test)\n",
    "dt_score_experiment=dt_experiment.predict_proba(X_test)\n",
    "print('avg. precision: %.2f' % average_precision_score(y_test, dt_score_experiment[:, 1]))\n",
    "print(\"accuray score: %.2f\"%accuracy_score(y_test,y_pred_experiment))"
   ]
  },
  {
   "cell_type": "markdown",
   "metadata": {},
   "source": [
    "ทั้งนี้ การที่เราจะทำการปรับค่าด้วยมือนั้นจะใช้เวลาค่อนข้างมาก การใช้คำสั่งช่วยเสริมอาจจะดีกว่า\n",
    "\n",
    "GridSearchCV() เป็นคำสังที่จะทำการทดลอง train model ด้วย parameter ต่างๆ train **และ** ทำการ cross-validate เพื่อเลือก parameters ที่ดีที่สุดให้ด้วย"
   ]
  },
  {
   "cell_type": "code",
   "execution_count": null,
   "metadata": {},
   "outputs": [],
   "source": [
    "parameters_choices = {'max_depth': [3, 5, 8],\n",
    "                     'min_samples_split': [1, 2, 4]}"
   ]
  },
  {
   "cell_type": "code",
   "execution_count": null,
   "metadata": {},
   "outputs": [],
   "source": [
    "dt_tune = DecisionTreeClassifier(random_state=2020)"
   ]
  },
  {
   "cell_type": "code",
   "execution_count": null,
   "metadata": {},
   "outputs": [],
   "source": [
    "from sklearn.model_selection import GridSearchCV\n",
    "grid_dt = GridSearchCV(estimator=dt_tune, param_grid=parameters_choices, scoring='average_precision', cv=3, n_jobs=-1)"
   ]
  },
  {
   "cell_type": "code",
   "execution_count": null,
   "metadata": {},
   "outputs": [],
   "source": [
    "grid_dt.fit(X_train, y_train)"
   ]
  },
  {
   "cell_type": "code",
   "execution_count": null,
   "metadata": {},
   "outputs": [],
   "source": [
    "#Best Parameters\n",
    "grid_dt.best_params_"
   ]
  },
  {
   "cell_type": "markdown",
   "metadata": {},
   "source": [
    "สร้าง model ด้วย parameters ที่ดีที่สุด และ train ใหม่"
   ]
  },
  {
   "cell_type": "code",
   "execution_count": null,
   "metadata": {},
   "outputs": [],
   "source": [
    "dt_best = DecisionTreeClassifier(random_state=2020, **grid_dt.best_params_) \n",
    "dt_best.fit(X_train,y_train)"
   ]
  },
  {
   "cell_type": "code",
   "execution_count": null,
   "metadata": {},
   "outputs": [],
   "source": [
    "y_pred = dt_best.predict(X_test)\n",
    "print(\"accuray score: %.2f\"%accuracy_score(y_test,y_pred))\n",
    "prec_recall_ROC_plot(dt_best,X_test)"
   ]
  },
  {
   "cell_type": "markdown",
   "metadata": {},
   "source": [
    "ในกรณีที่เรามีหลายโมเดล เราสามารถใช้วิธีการ loop แล้ว gridsearch หา parameters ที่เหมาะสมของทุกโมเดลได้\n",
    "\n",
    "***ด้านล่างเป็นตัวอย่างของ code ที่ ได้ทำการ tune model ทุกอัน***"
   ]
  },
  {
   "cell_type": "code",
   "execution_count": null,
   "metadata": {
    "colab": {},
    "colab_type": "code",
    "id": "0Hz-MTx_RLAl"
   },
   "outputs": [],
   "source": [
    "from sklearn.model_selection import GridSearchCV\n",
    "\n",
    "# สร้าง dictionary สำหรับเก็บค่า parameters ต่าง ๆ ในโมเดลเพื่อหาค่าที่ดีที่สุด\n",
    "param_grids = {}\n",
    "\n",
    "# ตัวอย่างการปรับค่า parameters ใน Logistic regression\n",
    "param_grids['lr'] = {'C': [0.001*10**i for i in range(6)]}\n",
    "\n",
    "# ตัวอย่างการปรับค่า parameters ใน Decision tree\n",
    "param_grids['dt'] = {'max_depth': [3, 5, 8],\n",
    "                     'min_samples_split': [1, 2, 4]}\n",
    "\n",
    "# ตัวอย่างการปรับค่า parameters ใน Random forest\n",
    "param_grids['rf'] = {'n_estimators': [100, 200, 300],\n",
    "                     'max_depth' : [3, 5, 8]}\n",
    "\n",
    "# ตัวอย่างการปรับค่า parameters ใน XGBoost\n",
    "param_grids['xg'] = {'max_depth': [3, 5, 8],\n",
    "                     'min_child_weight': [1, 2, 4]}"
   ]
  },
  {
   "cell_type": "markdown",
   "metadata": {
    "colab_type": "text",
    "id": "UylufiUfb2Zi"
   },
   "source": [
    "**หมายเหตุ:** สามารถปรับค่า parameters ได้มากกว่านี้"
   ]
  },
  {
   "cell_type": "code",
   "execution_count": null,
   "metadata": {
    "colab": {
     "base_uri": "https://localhost:8080/",
     "height": 87
    },
    "colab_type": "code",
    "id": "XAwFlFcZVHJ4",
    "outputId": "04e561c7-d5dd-4ce1-b938-6c4532448050"
   },
   "outputs": [],
   "source": [
    "# กำหนดโมเดลด้วย random_state=2020\n",
    "classifiers['lr'] = LogisticRegression(random_state=2020)\n",
    "classifiers['dt'] = DecisionTreeClassifier(random_state=2020)\n",
    "classifiers['rf'] = RandomForestClassifier(random_state=2020)\n",
    "classifiers['xg'] = xgb.XGBClassifier(random_state=2020)\n",
    "\n",
    "# สร้าง dictionary สำหรับเก็บค่าที่ได้จากการหาค่า parameters ที่เหมาะสมที่สุด\n",
    "grid_searchers = {}\n",
    "\n",
    "# สร้าง loop สำหรับหาค่า parameters ที่เหมาะสมในแต่ละโมเดล\n",
    "for model_name in model_description.keys():\n",
    "  print('คำนวณค่า parameters ที่เหมาะสมสำหรับ %s' % model_description[model_name], end='')\n",
    "\n",
    "  # ใช้ average precision เป็นตัวชี้วัดประสิทธิภาพของโมเดล\n",
    "  grid_searchers[model_name] = GridSearchCV(estimator=classifiers[model_name], param_grid=param_grids[model_name], scoring='average_precision', cv=3, n_jobs=-1)\n",
    "  grid_searchers[model_name].fit(X_train, y_train)\n",
    "  print(': เสร็จสิ้น')"
   ]
  },
  {
   "cell_type": "code",
   "execution_count": null,
   "metadata": {
    "colab": {
     "base_uri": "https://localhost:8080/",
     "height": 295
    },
    "colab_type": "code",
    "id": "_c29Y44AeoWy",
    "outputId": "2ec8ff0c-6e72-40d7-f884-f354ddacc519"
   },
   "outputs": [],
   "source": [
    "# แสดงค่า parameters ที่เหมาะสมที่สุดในแต่ละโมเดล\n",
    "best_params = {}\n",
    "\n",
    "for model_name in model_description.keys():\n",
    "  print(model_description[model_name])\n",
    "  best_params[model_name] = grid_searchers[model_name].best_params_\n",
    "  print(best_params[model_name], end='\\n\\n\\n')"
   ]
  },
  {
   "cell_type": "markdown",
   "metadata": {
    "colab_type": "text",
    "id": "9OVRNpIknBi8"
   },
   "source": [
    "ทดสอบโมเดลจากการเทรนด้วย parameters ที่เหมาะสมที่สุด"
   ]
  },
  {
   "cell_type": "code",
   "execution_count": null,
   "metadata": {
    "colab": {
     "base_uri": "https://localhost:8080/",
     "height": 1000
    },
    "colab_type": "code",
    "id": "glpnRVefmPaO",
    "outputId": "daa39b63-9ec9-4ece-c16d-1dcb1cd30c8a"
   },
   "outputs": [],
   "source": [
    "# กำหนดโมเดลด้วยค่า parameters ที่เหมาะสมที่สุด\n",
    "# สามารถใช้ `**dictionary` เพื่อเรียกใช้ค่าอยู่ใน dictionary นั้น\n",
    "classifiers['lr'] = LogisticRegression(random_state=2020, **best_params['lr'])\n",
    "classifiers['dt'] = DecisionTreeClassifier(random_state=2020, **best_params['dt'])\n",
    "classifiers['rf'] = RandomForestClassifier(random_state=2020, **best_params['rf'])\n",
    "classifiers['xg'] = xgb.XGBClassifier(random_state=2020, **best_params['xg'])\n",
    "\n",
    "# ทดสอบโมเดล\n",
    "for model_name in model_description.keys():\n",
    "    model = classifiers[model_name]\n",
    "    #Train the model\n",
    "    model.fit(X_train,y_train)\n",
    "    y_pred = model.predict(X_test)\n",
    "    print(model_description[model_name])\n",
    "    print(\"accuray score: %.2f\"%accuracy_score(y_test,y_pred))\n",
    "    prec_recall_ROC_plot(model,X_test)\n",
    "    print('\\n\\n\\n') #print new lines"
   ]
  },
  {
   "cell_type": "markdown",
   "metadata": {
    "colab_type": "text",
    "id": "2Bi6CDYWtSPD"
   },
   "source": [
    "**หมายเหตุ:** ข้อมูลที่ยกตัวอย่างมามีการกระจายตัวระหว่างการเป็น Churn (ํ`Yes` และ `No`) ที่ไม่เท่ากัน ซึ่งเรียกข้อมูลลักษณะนี้ว่า *imbalanced data* และสามารถจัดการให้ข้อมูลเป็น balanced data ก่อนตอนเทรนโมเดลได้ โดยการใช้วิธี under-sampling, over-samping หรือ SMOTE เป็นต้น"
   ]
  },
  {
   "cell_type": "code",
   "execution_count": null,
   "metadata": {
    "colab": {
     "base_uri": "https://localhost:8080/",
     "height": 69
    },
    "colab_type": "code",
    "id": "e8cuDFTrJTQT",
    "outputId": "07785302-6ae6-4fdb-81bd-237b317ee1ec"
   },
   "outputs": [],
   "source": [
    "df['Churn'].value_counts()"
   ]
  },
  {
   "cell_type": "code",
   "execution_count": null,
   "metadata": {},
   "outputs": [],
   "source": []
  }
 ],
 "metadata": {
  "colab": {
   "collapsed_sections": [],
   "name": "classification_lab.ipynb",
   "provenance": []
  },
  "kernelspec": {
   "display_name": "Python 3",
   "language": "python",
   "name": "python3"
  },
  "language_info": {
   "codemirror_mode": {
    "name": "ipython",
    "version": 3
   },
   "file_extension": ".py",
   "mimetype": "text/x-python",
   "name": "python",
   "nbconvert_exporter": "python",
   "pygments_lexer": "ipython3",
   "version": "3.7.1"
  }
 },
 "nbformat": 4,
 "nbformat_minor": 1
}

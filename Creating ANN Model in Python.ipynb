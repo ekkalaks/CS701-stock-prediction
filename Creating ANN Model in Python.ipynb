{
 "cells": [
  {
   "cell_type": "code",
   "execution_count": 14,
   "id": "316aebf1",
   "metadata": {},
   "outputs": [],
   "source": [
    "### Import Module เช่น Keras แต่ ต้องลง Tensorflow ก่อน"
   ]
  },
  {
   "cell_type": "code",
   "execution_count": 2,
   "id": "3174e1dd",
   "metadata": {
    "scrolled": true
   },
   "outputs": [],
   "source": [
    "from keras.models import Sequential\n",
    "from keras.layers import Dense\n",
    "import numpy as np"
   ]
  },
  {
   "cell_type": "code",
   "execution_count": null,
   "id": "de769997",
   "metadata": {},
   "outputs": [],
   "source": [
    "### กำหนดค่าต่างๆ เช่น raw_data: data, label_data: Y"
   ]
  },
  {
   "cell_type": "code",
   "execution_count": 4,
   "id": "f94bac9a",
   "metadata": {},
   "outputs": [],
   "source": [
    "data = np.random.random((1000,10))\n",
    "Y = np.random.randint(2, size=(1000,1))\n",
    "model = Sequential()"
   ]
  },
  {
   "cell_type": "code",
   "execution_count": null,
   "id": "34e80679",
   "metadata": {},
   "outputs": [],
   "source": [
    "### Model constuction\n",
    "### สร้าง ANN โดยที่ มี 4 Node แบ่งเป็น\n",
    "# 1 input layer มี 10 features > activation>> 'relu'\n",
    "# 2 hidden layer มี 32 features > activation>> 'relu'\n",
    "# 3 hidden layer มี 32 features > activation>> 'sigmoid'\n",
    "# 4 output layer 1 feature"
   ]
  },
  {
   "cell_type": "code",
   "execution_count": 5,
   "id": "41acb583",
   "metadata": {},
   "outputs": [],
   "source": [
    "model = Sequential()\n",
    "model.add(Dense(32, input_dim=10, activation='relu'))\n",
    "model.add(Dense(32, activation='relu'))\n",
    "model.add(Dense(1, activation='sigmoid'))"
   ]
  },
  {
   "cell_type": "code",
   "execution_count": null,
   "id": "5b9cca05",
   "metadata": {},
   "outputs": [],
   "source": [
    "### Compiling Model"
   ]
  },
  {
   "cell_type": "code",
   "execution_count": 6,
   "id": "28c6220c",
   "metadata": {},
   "outputs": [],
   "source": [
    "model.compile(loss='binary_crossentropy', optimizer='adam', metrics=['accuracy'])"
   ]
  },
  {
   "cell_type": "code",
   "execution_count": null,
   "id": "c725adf7",
   "metadata": {},
   "outputs": [],
   "source": [
    "### Fitting Model"
   ]
  },
  {
   "cell_type": "code",
   "execution_count": 10,
   "id": "4b269aaa",
   "metadata": {
    "scrolled": true
   },
   "outputs": [
    {
     "name": "stdout",
     "output_type": "stream",
     "text": [
      "Epoch 1/10\n",
      "32/32 [==============================] - 0s 387us/step - loss: 0.6973 - accuracy: 0.5110\n",
      "Epoch 2/10\n",
      "32/32 [==============================] - 0s 387us/step - loss: 0.6922 - accuracy: 0.5190\n",
      "Epoch 3/10\n",
      "32/32 [==============================] - 0s 355us/step - loss: 0.6898 - accuracy: 0.5320\n",
      "Epoch 4/10\n",
      "32/32 [==============================] - 0s 419us/step - loss: 0.6882 - accuracy: 0.5470\n",
      "Epoch 5/10\n",
      "32/32 [==============================] - 0s 387us/step - loss: 0.6872 - accuracy: 0.5460\n",
      "Epoch 6/10\n",
      "32/32 [==============================] - 0s 419us/step - loss: 0.6847 - accuracy: 0.5510\n",
      "Epoch 7/10\n",
      "32/32 [==============================] - 0s 419us/step - loss: 0.6837 - accuracy: 0.5600\n",
      "Epoch 8/10\n",
      "32/32 [==============================] - 0s 387us/step - loss: 0.6831 - accuracy: 0.5620\n",
      "Epoch 9/10\n",
      "32/32 [==============================] - 0s 387us/step - loss: 0.6823 - accuracy: 0.5580\n",
      "Epoch 10/10\n",
      "32/32 [==============================] - 0s 387us/step - loss: 0.6817 - accuracy: 0.5560\n"
     ]
    },
    {
     "data": {
      "text/plain": [
       "<keras.callbacks.History at 0x18478b525b0>"
      ]
     },
     "execution_count": 10,
     "metadata": {},
     "output_type": "execute_result"
    }
   ],
   "source": [
    "model.fit(data, Y, epochs=10, batch_size=32)"
   ]
  },
  {
   "cell_type": "code",
   "execution_count": null,
   "id": "c0526f2f",
   "metadata": {},
   "outputs": [],
   "source": [
    "### Evauating the model"
   ]
  },
  {
   "cell_type": "code",
   "execution_count": 13,
   "id": "69754d7b",
   "metadata": {},
   "outputs": [
    {
     "name": "stdout",
     "output_type": "stream",
     "text": [
      "32/32 [==============================] - 0s 323us/step - loss: 0.6785 - accuracy: 0.5650\n",
      "accuracy: 56.50%\n"
     ]
    }
   ],
   "source": [
    "scores = model.evaluate(data, Y)\n",
    "print(\"%s: %.2f%%\" %(model.metrics_names[1], scores[1]*100))"
   ]
  },
  {
   "cell_type": "code",
   "execution_count": null,
   "id": "7b9e7586",
   "metadata": {},
   "outputs": [],
   "source": []
  }
 ],
 "metadata": {
  "kernelspec": {
   "display_name": "Python 3 (ipykernel)",
   "language": "python",
   "name": "python3"
  },
  "language_info": {
   "codemirror_mode": {
    "name": "ipython",
    "version": 3
   },
   "file_extension": ".py",
   "mimetype": "text/x-python",
   "name": "python",
   "nbconvert_exporter": "python",
   "pygments_lexer": "ipython3",
   "version": "3.8.8"
  }
 },
 "nbformat": 4,
 "nbformat_minor": 5
}
